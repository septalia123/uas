{
 "cells": [
  {
   "cell_type": "markdown",
   "id": "e90adbcb",
   "metadata": {},
   "source": [
    "# TOPIK MODELLING"
   ]
  },
  {
   "cell_type": "markdown",
   "id": "67d3a1b2",
   "metadata": {},
   "source": [
    "Topik Modelling adalah pendekatan yang digunakan untuk menganalisis sekumpulan dokumen yang berbentuk teks yang kemudian dikelompokkan menjadi beberapa topik. Proses topik modelling dapat dilakukan dengan tahapan-tahapan sebagai berikut:\n",
    "1. Crawling Data\n",
    "2. Pre-Processing Data\n",
    "   - Cleansing Data\n",
    "   - Stopword\n",
    "3. Modelling (LSA)"
   ]
  },
  {
   "cell_type": "markdown",
   "id": "cd0a4a42",
   "metadata": {},
   "source": [
    "# 1. Crawling Data Berita"
   ]
  },
  {
   "cell_type": "markdown",
   "id": "babbc44a",
   "metadata": {},
   "source": [
    "Crawling data adalah proses pengambilan data secara online untuk sebuah kebutuhan umum. Proses yang dilakukan yaitu mengimport suatu informasi atau sebuah data yang telah di ambil ke dalam file lokal pada komputer. Crawling data dilakukan untuk mengekstraksi data yang mengacu pengumpulan data dari worldwide web, dokumen-dokumen, file, dan lainnya. "
   ]
  },
  {
   "cell_type": "markdown",
   "id": "eb9103e4",
   "metadata": {},
   "source": [
    "Berikut adalah code untuk proses Crawling data website berita menggunakan Scrapy. Website berita yang di crawling adalah https://ekbis.sindonews.com/, data yang di ambil adalah data Judul, Waktu, Category berita, dan Deskripsi berita."
   ]
  },
  {
   "cell_type": "markdown",
   "id": "348b6954",
   "metadata": {},
   "source": [
    "import scrapy\n",
    "\n",
    "\n",
    "class QuotesSpider(scrapy.Spider):\n",
    "    name = \"quotes\"\n",
    "\n",
    "    def start_requests(self):\n",
    "        urls = [\n",
    "            'https://ekbis.sindonews.com/'\n",
    "\n",
    "        ]\n",
    "        for url in urls:\n",
    "            yield scrapy.Request(url=url, callback=self.parse)\n",
    "\n",
    "    def parse(self, response):\n",
    "        # print(response.url)\n",
    "        for i in range(0, 30):\n",
    "            for data in response.css('body > div:nth-child(5) > section > div.grid_24 > div.homelist-new > ul'):\n",
    "                yield{\n",
    "                    'judul': data.css('li.latest-event.latest-track-' + str(i) + ' > div.homelist-box > div.homelist-title > a::text').extract(),\n",
    "\n",
    "                    'waktu': data.css('li.latest-event.latest-track-' + str(i) + ' > div.homelist-box > div.homelist-top > div.homelist-date::text').extract(),\n",
    "\n",
    "                    'category': data.css('li.latest-event.latest-track-' + str(i) + ' > div.homelist-box > div.homelist-top > div.homelist-channel::text').extract(),\n",
    "\n",
    "                    'isi': data.css('li.latest-event.latest-track-' + str(i) + ' > div.homelist-box > div.homelist-desc::text').extract()\n",
    "                }\n",
    "                \n"
   ]
  },
  {
   "cell_type": "markdown",
   "id": "55cefd21",
   "metadata": {},
   "source": [
    "# 2. Pre-Processing Data"
   ]
  },
  {
   "cell_type": "markdown",
   "id": "97594283",
   "metadata": {},
   "source": [
    "Pre-Processing Data merupakan suatu proses mengubah data mentah menjadi bentuk data yang lebih mudah dipahami. Proses dilakukan untuk membersihkan data dari angka, tanda baca, whitespace, dan kata yang tidak penting untuk digunakan. Tahapan dalam pre-processing data yaitu:"
   ]
  },
  {
   "cell_type": "markdown",
   "id": "efcb9748",
   "metadata": {},
   "source": [
    "## Cleansing Data\n"
   ]
  },
  {
   "cell_type": "markdown",
   "id": "b833c737",
   "metadata": {},
   "source": [
    "Cleaning data atau membersihkan data artinya mengeksekusi ulang data yang telah di peroleh, seperti menghapus atau menghilangkan data-data yang tidak lengkap, tidak relavan, dan tidak akurat. Langkah pertama yang dilakukan untuk membulai proses pre-processing data adalah dengan mengimport modul-module yang diperlukan untuk proses pre-processing."
   ]
  },
  {
   "cell_type": "markdown",
   "id": "4cef248a",
   "metadata": {},
   "source": [
    "###  1. Import Module"
   ]
  },
  {
   "cell_type": "code",
   "execution_count": 28,
   "id": "21ca5307",
   "metadata": {},
   "outputs": [],
   "source": [
    "# data visualisation and manipulation\n",
    "import numpy as np\n",
    "import pandas as pd\n",
    "import matplotlib.pyplot as plt\n",
    "from matplotlib import style\n",
    "import seaborn as sns\n",
    "#configure\n",
    "# sets matplotlib to inline and displays graphs below the corressponding cell.\n",
    "%matplotlib inline  \n",
    "style.use('fivethirtyeight')\n",
    "sns.set(style='whitegrid',color_codes=True)\n",
    "\n",
    "#import nltk\n",
    "import nltk\n",
    "from nltk.corpus import stopwords\n",
    "from nltk.tokenize import word_tokenize,sent_tokenize\n",
    "\n",
    "#preprocessing\n",
    "from nltk.corpus import stopwords  #stopwords\n",
    "from nltk import word_tokenize,sent_tokenize # tokenizing\n",
    "from nltk.stem import PorterStemmer,LancasterStemmer  # using the Porter Stemmer and Lancaster Stemmer and others\n",
    "from nltk.stem.snowball import SnowballStemmer\n",
    "from nltk.stem import WordNetLemmatizer  # lammatizer from WordNet\n",
    "\n",
    "# for named entity recognition (NER)\n",
    "from nltk import ne_chunk\n",
    "\n",
    "# vectorizers for creating the document-term-matrix (DTM)\n",
    "from sklearn.feature_extraction.text import TfidfVectorizer,CountVectorizer\n",
    "\n",
    "#stop-words\n",
    "stop_words=set(nltk.corpus.stopwords.words('indonesian'))"
   ]
  },
  {
   "cell_type": "markdown",
   "id": "9fcaa015",
   "metadata": {},
   "source": [
    "### 2. Load Dataset"
   ]
  },
  {
   "cell_type": "markdown",
   "id": "a10fe96d",
   "metadata": {},
   "source": [
    "setelah proses import module yang digunakan, langkah kedua pada proses cleaning data adalah Load Data. Load Data adalah proses membuka data yang akan digunakan untuk proses Pre-Processing, data yang digunakan biasanya berbentuk file csv."
   ]
  },
  {
   "cell_type": "code",
   "execution_count": 29,
   "id": "34367253",
   "metadata": {},
   "outputs": [],
   "source": [
    "df=pd.read_csv('wrapping-text.csv')"
   ]
  },
  {
   "cell_type": "code",
   "execution_count": 30,
   "id": "bc960a0e",
   "metadata": {},
   "outputs": [
    {
     "data": {
      "text/html": [
       "<div>\n",
       "<style scoped>\n",
       "    .dataframe tbody tr th:only-of-type {\n",
       "        vertical-align: middle;\n",
       "    }\n",
       "\n",
       "    .dataframe tbody tr th {\n",
       "        vertical-align: top;\n",
       "    }\n",
       "\n",
       "    .dataframe thead th {\n",
       "        text-align: right;\n",
       "    }\n",
       "</style>\n",
       "<table border=\"1\" class=\"dataframe\">\n",
       "  <thead>\n",
       "    <tr style=\"text-align: right;\">\n",
       "      <th></th>\n",
       "      <th>judul</th>\n",
       "      <th>waktu</th>\n",
       "      <th>category</th>\n",
       "      <th>isi</th>\n",
       "    </tr>\n",
       "  </thead>\n",
       "  <tbody>\n",
       "    <tr>\n",
       "      <th>0</th>\n",
       "      <td>Wapres Ungkap Data Amerika Soal Ketahanan Pang...</td>\n",
       "      <td>Selasa, 22 Maret 2022 - 17:14 WIB</td>\n",
       "      <td>Sektor Riil</td>\n",
       "      <td>Wakil Presiden Maruf Amin mengungkapkan, berda...</td>\n",
       "    </tr>\n",
       "    <tr>\n",
       "      <th>1</th>\n",
       "      <td>Lebih Murah, YLKI Khawatir Konsumen Bakal Migr...</td>\n",
       "      <td>Selasa, 22 Maret 2022 - 16:48 WIB</td>\n",
       "      <td>Sektor Riil</td>\n",
       "      <td>Ketua Yayasan Lembaga Konsumen Indonesia (YLKI...</td>\n",
       "    </tr>\n",
       "    <tr>\n",
       "      <th>2</th>\n",
       "      <td>Kemenkeu Siapkan 186 Pasal yang Mengatur Penda...</td>\n",
       "      <td>Selasa, 22 Maret 2022 - 16:24 WIB</td>\n",
       "      <td>Makro</td>\n",
       "      <td>Kementerian Keuangan tengah menyiapkan 186 pas...</td>\n",
       "    </tr>\n",
       "    <tr>\n",
       "      <th>3</th>\n",
       "      <td>Menghijau, IHSG Hari Ini Ditutup Tembus Level ...</td>\n",
       "      <td>Selasa, 22 Maret 2022 - 15:37 WIB</td>\n",
       "      <td>Kurs &amp; Saham</td>\n",
       "      <td>Indeks Harga Saham Gabungan (IHSG) hari ini me...</td>\n",
       "    </tr>\n",
       "    <tr>\n",
       "      <th>4</th>\n",
       "      <td>Tumbuh Berlipat dari PDB, Ekonomi Digital Jadi...</td>\n",
       "      <td>Selasa, 22 Maret 2022 - 15:29 WIB</td>\n",
       "      <td>Makro</td>\n",
       "      <td>Laju pertumbuhan ekonomi digital Indonesia dip...</td>\n",
       "    </tr>\n",
       "  </tbody>\n",
       "</table>\n",
       "</div>"
      ],
      "text/plain": [
       "                                               judul  \\\n",
       "0  Wapres Ungkap Data Amerika Soal Ketahanan Pang...   \n",
       "1  Lebih Murah, YLKI Khawatir Konsumen Bakal Migr...   \n",
       "2  Kemenkeu Siapkan 186 Pasal yang Mengatur Penda...   \n",
       "3  Menghijau, IHSG Hari Ini Ditutup Tembus Level ...   \n",
       "4  Tumbuh Berlipat dari PDB, Ekonomi Digital Jadi...   \n",
       "\n",
       "                               waktu      category  \\\n",
       "0  Selasa, 22 Maret 2022 - 17:14 WIB   Sektor Riil   \n",
       "1  Selasa, 22 Maret 2022 - 16:48 WIB   Sektor Riil   \n",
       "2  Selasa, 22 Maret 2022 - 16:24 WIB         Makro   \n",
       "3  Selasa, 22 Maret 2022 - 15:37 WIB  Kurs & Saham   \n",
       "4  Selasa, 22 Maret 2022 - 15:29 WIB         Makro   \n",
       "\n",
       "                                                 isi  \n",
       "0  Wakil Presiden Maruf Amin mengungkapkan, berda...  \n",
       "1  Ketua Yayasan Lembaga Konsumen Indonesia (YLKI...  \n",
       "2  Kementerian Keuangan tengah menyiapkan 186 pas...  \n",
       "3  Indeks Harga Saham Gabungan (IHSG) hari ini me...  \n",
       "4  Laju pertumbuhan ekonomi digital Indonesia dip...  "
      ]
     },
     "execution_count": 30,
     "metadata": {},
     "output_type": "execute_result"
    }
   ],
   "source": [
    "df.head()"
   ]
  },
  {
   "cell_type": "markdown",
   "id": "c42a0646",
   "metadata": {},
   "source": [
    "df.head() adalah proses untuk menampilkan data awal yang ada pada file."
   ]
  },
  {
   "cell_type": "markdown",
   "id": "ce495423",
   "metadata": {},
   "source": [
    "### 3. Drop data yang tidak diperlukan"
   ]
  },
  {
   "cell_type": "markdown",
   "id": "a5624a23",
   "metadata": {},
   "source": [
    "Drop data adalah proses penghapusan data pada tabel data yang tidak diperlukan dalam proses pre-processing data. Pada tahap ini data yang dihapus adalah data yang ada pada tabel judul, waktu, dan category karena data yang akan digunakan adalah data yang ada pada tabel isi."
   ]
  },
  {
   "cell_type": "code",
   "execution_count": 31,
   "id": "07038081",
   "metadata": {},
   "outputs": [],
   "source": [
    "# drop the publish date.\n",
    "df.drop(['judul'],axis=1,inplace=True)"
   ]
  },
  {
   "cell_type": "code",
   "execution_count": 32,
   "id": "1bec7585",
   "metadata": {},
   "outputs": [],
   "source": [
    "df.drop(['waktu'],axis=1,inplace=True)"
   ]
  },
  {
   "cell_type": "code",
   "execution_count": 33,
   "id": "7d649aed",
   "metadata": {},
   "outputs": [],
   "source": [
    "df.drop(['category'],axis=1,inplace=True)"
   ]
  },
  {
   "cell_type": "markdown",
   "id": "76921aae",
   "metadata": {},
   "source": [
    "tahap setelah penghapusan data yaitu menampilkan hasil data yang telah di proses."
   ]
  },
  {
   "cell_type": "code",
   "execution_count": 34,
   "id": "e009f844",
   "metadata": {},
   "outputs": [
    {
     "data": {
      "text/html": [
       "<div>\n",
       "<style scoped>\n",
       "    .dataframe tbody tr th:only-of-type {\n",
       "        vertical-align: middle;\n",
       "    }\n",
       "\n",
       "    .dataframe tbody tr th {\n",
       "        vertical-align: top;\n",
       "    }\n",
       "\n",
       "    .dataframe thead th {\n",
       "        text-align: right;\n",
       "    }\n",
       "</style>\n",
       "<table border=\"1\" class=\"dataframe\">\n",
       "  <thead>\n",
       "    <tr style=\"text-align: right;\">\n",
       "      <th></th>\n",
       "      <th>isi</th>\n",
       "    </tr>\n",
       "  </thead>\n",
       "  <tbody>\n",
       "    <tr>\n",
       "      <th>0</th>\n",
       "      <td>Wakil Presiden Maruf Amin mengungkapkan, berda...</td>\n",
       "    </tr>\n",
       "    <tr>\n",
       "      <th>1</th>\n",
       "      <td>Ketua Yayasan Lembaga Konsumen Indonesia (YLKI...</td>\n",
       "    </tr>\n",
       "    <tr>\n",
       "      <th>2</th>\n",
       "      <td>Kementerian Keuangan tengah menyiapkan 186 pas...</td>\n",
       "    </tr>\n",
       "    <tr>\n",
       "      <th>3</th>\n",
       "      <td>Indeks Harga Saham Gabungan (IHSG) hari ini me...</td>\n",
       "    </tr>\n",
       "    <tr>\n",
       "      <th>4</th>\n",
       "      <td>Laju pertumbuhan ekonomi digital Indonesia dip...</td>\n",
       "    </tr>\n",
       "    <tr>\n",
       "      <th>5</th>\n",
       "      <td>Menyusul dicabutnya aturan Harga Eceran Tertin...</td>\n",
       "    </tr>\n",
       "    <tr>\n",
       "      <th>6</th>\n",
       "      <td>Menteri Keuangan (Menkeu) Sri Mulyani menyatak...</td>\n",
       "    </tr>\n",
       "    <tr>\n",
       "      <th>7</th>\n",
       "      <td>Menteri Keuangan (Menkeu) Sri Mulyani merespon...</td>\n",
       "    </tr>\n",
       "    <tr>\n",
       "      <th>8</th>\n",
       "      <td>Harga minyak mentah atau crude oil mengalami k...</td>\n",
       "    </tr>\n",
       "    <tr>\n",
       "      <th>9</th>\n",
       "      <td>Menko Airlangga mengakui pelaku UMKM menjadi c...</td>\n",
       "    </tr>\n",
       "    <tr>\n",
       "      <th>10</th>\n",
       "      <td>Asosiasi Pengusaha Ritel Indonesia (Aprindo) m...</td>\n",
       "    </tr>\n",
       "    <tr>\n",
       "      <th>11</th>\n",
       "      <td>Indeks Harga Saham Gabungan (IHSG) hari ini me...</td>\n",
       "    </tr>\n",
       "    <tr>\n",
       "      <th>12</th>\n",
       "      <td>Kementerian Perhubungan menyatakan belum ada k...</td>\n",
       "    </tr>\n",
       "    <tr>\n",
       "      <th>13</th>\n",
       "      <td>Aturan untuk memulai pembangunan Ibu Kota Nega...</td>\n",
       "    </tr>\n",
       "    <tr>\n",
       "      <th>14</th>\n",
       "      <td>Otoritas Jasa Keuangan mendorong perusahaan BU...</td>\n",
       "    </tr>\n",
       "    <tr>\n",
       "      <th>15</th>\n",
       "      <td>Pencabutan Harga Eceran Tertinggi (HET) minyak...</td>\n",
       "    </tr>\n",
       "    <tr>\n",
       "      <th>16</th>\n",
       "      <td>Berdasarkan catatan Otoritas Jasa Keuangan (OJ...</td>\n",
       "    </tr>\n",
       "    <tr>\n",
       "      <th>17</th>\n",
       "      <td>Wakil Ketua DPR RI, Rachmat Gobel menyatakan, ...</td>\n",
       "    </tr>\n",
       "    <tr>\n",
       "      <th>18</th>\n",
       "      <td>PT GoTo Gojek Tokopedia Tbk atau GoTo memperpa...</td>\n",
       "    </tr>\n",
       "    <tr>\n",
       "      <th>19</th>\n",
       "      <td>IHSG hari ini dibuka menguat di 6.974,97 pada ...</td>\n",
       "    </tr>\n",
       "    <tr>\n",
       "      <th>20</th>\n",
       "      <td>Harga emas batangan PT Aneka Tambang (Antam) t...</td>\n",
       "    </tr>\n",
       "    <tr>\n",
       "      <th>21</th>\n",
       "      <td>81 perusahaan industri minyak goreng wajib unt...</td>\n",
       "    </tr>\n",
       "    <tr>\n",
       "      <th>22</th>\n",
       "      <td>Fenomena Ghozali Everyday yang sukses menjual ...</td>\n",
       "    </tr>\n",
       "    <tr>\n",
       "      <th>23</th>\n",
       "      <td>Masyarakat tidak perlu khawatir dan tidak perl...</td>\n",
       "    </tr>\n",
       "    <tr>\n",
       "      <th>24</th>\n",
       "      <td>Menteri Koordinator Maritim dan Investasi, Luh...</td>\n",
       "    </tr>\n",
       "    <tr>\n",
       "      <th>25</th>\n",
       "      <td>Indeks Harga Saham Gabungan atau IHSG hari ini...</td>\n",
       "    </tr>\n",
       "    <tr>\n",
       "      <th>26</th>\n",
       "      <td>Para pemimpin Uni Eropa (UE) menemui jalan bun...</td>\n",
       "    </tr>\n",
       "    <tr>\n",
       "      <th>27</th>\n",
       "      <td>Investor asing terpantau melakukan aksi penjua...</td>\n",
       "    </tr>\n",
       "    <tr>\n",
       "      <th>28</th>\n",
       "      <td>Selain kenaikan PPN, pemerintah juga akan mene...</td>\n",
       "    </tr>\n",
       "    <tr>\n",
       "      <th>29</th>\n",
       "      <td>Dow Jones Industrial Average turun 85,08 poin ...</td>\n",
       "    </tr>\n",
       "  </tbody>\n",
       "</table>\n",
       "</div>"
      ],
      "text/plain": [
       "                                                  isi\n",
       "0   Wakil Presiden Maruf Amin mengungkapkan, berda...\n",
       "1   Ketua Yayasan Lembaga Konsumen Indonesia (YLKI...\n",
       "2   Kementerian Keuangan tengah menyiapkan 186 pas...\n",
       "3   Indeks Harga Saham Gabungan (IHSG) hari ini me...\n",
       "4   Laju pertumbuhan ekonomi digital Indonesia dip...\n",
       "5   Menyusul dicabutnya aturan Harga Eceran Tertin...\n",
       "6   Menteri Keuangan (Menkeu) Sri Mulyani menyatak...\n",
       "7   Menteri Keuangan (Menkeu) Sri Mulyani merespon...\n",
       "8   Harga minyak mentah atau crude oil mengalami k...\n",
       "9   Menko Airlangga mengakui pelaku UMKM menjadi c...\n",
       "10  Asosiasi Pengusaha Ritel Indonesia (Aprindo) m...\n",
       "11  Indeks Harga Saham Gabungan (IHSG) hari ini me...\n",
       "12  Kementerian Perhubungan menyatakan belum ada k...\n",
       "13  Aturan untuk memulai pembangunan Ibu Kota Nega...\n",
       "14  Otoritas Jasa Keuangan mendorong perusahaan BU...\n",
       "15  Pencabutan Harga Eceran Tertinggi (HET) minyak...\n",
       "16  Berdasarkan catatan Otoritas Jasa Keuangan (OJ...\n",
       "17  Wakil Ketua DPR RI, Rachmat Gobel menyatakan, ...\n",
       "18  PT GoTo Gojek Tokopedia Tbk atau GoTo memperpa...\n",
       "19  IHSG hari ini dibuka menguat di 6.974,97 pada ...\n",
       "20  Harga emas batangan PT Aneka Tambang (Antam) t...\n",
       "21  81 perusahaan industri minyak goreng wajib unt...\n",
       "22  Fenomena Ghozali Everyday yang sukses menjual ...\n",
       "23  Masyarakat tidak perlu khawatir dan tidak perl...\n",
       "24  Menteri Koordinator Maritim dan Investasi, Luh...\n",
       "25  Indeks Harga Saham Gabungan atau IHSG hari ini...\n",
       "26  Para pemimpin Uni Eropa (UE) menemui jalan bun...\n",
       "27  Investor asing terpantau melakukan aksi penjua...\n",
       "28  Selain kenaikan PPN, pemerintah juga akan mene...\n",
       "29  Dow Jones Industrial Average turun 85,08 poin ..."
      ]
     },
     "execution_count": 34,
     "metadata": {},
     "output_type": "execute_result"
    }
   ],
   "source": [
    "df.head(30)"
   ]
  },
  {
   "cell_type": "markdown",
   "id": "29c75adf",
   "metadata": {},
   "source": [
    "### 4. Clean Data & Processing Data"
   ]
  },
  {
   "cell_type": "markdown",
   "id": "a9c09935",
   "metadata": {},
   "source": [
    "Proses ini adalah proses untuk membersihkan data dari angka-angka"
   ]
  },
  {
   "cell_type": "code",
   "execution_count": 35,
   "id": "0b0ee77c",
   "metadata": {},
   "outputs": [
    {
     "data": {
      "text/html": [
       "<div>\n",
       "<style scoped>\n",
       "    .dataframe tbody tr th:only-of-type {\n",
       "        vertical-align: middle;\n",
       "    }\n",
       "\n",
       "    .dataframe tbody tr th {\n",
       "        vertical-align: top;\n",
       "    }\n",
       "\n",
       "    .dataframe thead th {\n",
       "        text-align: right;\n",
       "    }\n",
       "</style>\n",
       "<table border=\"1\" class=\"dataframe\">\n",
       "  <thead>\n",
       "    <tr style=\"text-align: right;\">\n",
       "      <th></th>\n",
       "      <th>isi</th>\n",
       "      <th>hapus angka</th>\n",
       "    </tr>\n",
       "  </thead>\n",
       "  <tbody>\n",
       "    <tr>\n",
       "      <th>0</th>\n",
       "      <td>Wakil Presiden Maruf Amin mengungkapkan, berda...</td>\n",
       "      <td>Wakil Presiden Maruf Amin mengungkapkan, berda...</td>\n",
       "    </tr>\n",
       "    <tr>\n",
       "      <th>1</th>\n",
       "      <td>Ketua Yayasan Lembaga Konsumen Indonesia (YLKI...</td>\n",
       "      <td>Ketua Yayasan Lembaga Konsumen Indonesia (YLKI...</td>\n",
       "    </tr>\n",
       "    <tr>\n",
       "      <th>2</th>\n",
       "      <td>Kementerian Keuangan tengah menyiapkan 186 pas...</td>\n",
       "      <td>Kementerian Keuangan tengah menyiapkan  pasal ...</td>\n",
       "    </tr>\n",
       "    <tr>\n",
       "      <th>3</th>\n",
       "      <td>Indeks Harga Saham Gabungan (IHSG) hari ini me...</td>\n",
       "      <td>Indeks Harga Saham Gabungan (IHSG) hari ini me...</td>\n",
       "    </tr>\n",
       "    <tr>\n",
       "      <th>4</th>\n",
       "      <td>Laju pertumbuhan ekonomi digital Indonesia dip...</td>\n",
       "      <td>Laju pertumbuhan ekonomi digital Indonesia dip...</td>\n",
       "    </tr>\n",
       "    <tr>\n",
       "      <th>5</th>\n",
       "      <td>Menyusul dicabutnya aturan Harga Eceran Tertin...</td>\n",
       "      <td>Menyusul dicabutnya aturan Harga Eceran Tertin...</td>\n",
       "    </tr>\n",
       "    <tr>\n",
       "      <th>6</th>\n",
       "      <td>Menteri Keuangan (Menkeu) Sri Mulyani menyatak...</td>\n",
       "      <td>Menteri Keuangan (Menkeu) Sri Mulyani menyatak...</td>\n",
       "    </tr>\n",
       "    <tr>\n",
       "      <th>7</th>\n",
       "      <td>Menteri Keuangan (Menkeu) Sri Mulyani merespon...</td>\n",
       "      <td>Menteri Keuangan (Menkeu) Sri Mulyani merespon...</td>\n",
       "    </tr>\n",
       "    <tr>\n",
       "      <th>8</th>\n",
       "      <td>Harga minyak mentah atau crude oil mengalami k...</td>\n",
       "      <td>Harga minyak mentah atau crude oil mengalami k...</td>\n",
       "    </tr>\n",
       "    <tr>\n",
       "      <th>9</th>\n",
       "      <td>Menko Airlangga mengakui pelaku UMKM menjadi c...</td>\n",
       "      <td>Menko Airlangga mengakui pelaku UMKM menjadi c...</td>\n",
       "    </tr>\n",
       "  </tbody>\n",
       "</table>\n",
       "</div>"
      ],
      "text/plain": [
       "                                                 isi  \\\n",
       "0  Wakil Presiden Maruf Amin mengungkapkan, berda...   \n",
       "1  Ketua Yayasan Lembaga Konsumen Indonesia (YLKI...   \n",
       "2  Kementerian Keuangan tengah menyiapkan 186 pas...   \n",
       "3  Indeks Harga Saham Gabungan (IHSG) hari ini me...   \n",
       "4  Laju pertumbuhan ekonomi digital Indonesia dip...   \n",
       "5  Menyusul dicabutnya aturan Harga Eceran Tertin...   \n",
       "6  Menteri Keuangan (Menkeu) Sri Mulyani menyatak...   \n",
       "7  Menteri Keuangan (Menkeu) Sri Mulyani merespon...   \n",
       "8  Harga minyak mentah atau crude oil mengalami k...   \n",
       "9  Menko Airlangga mengakui pelaku UMKM menjadi c...   \n",
       "\n",
       "                                         hapus angka  \n",
       "0  Wakil Presiden Maruf Amin mengungkapkan, berda...  \n",
       "1  Ketua Yayasan Lembaga Konsumen Indonesia (YLKI...  \n",
       "2  Kementerian Keuangan tengah menyiapkan  pasal ...  \n",
       "3  Indeks Harga Saham Gabungan (IHSG) hari ini me...  \n",
       "4  Laju pertumbuhan ekonomi digital Indonesia dip...  \n",
       "5  Menyusul dicabutnya aturan Harga Eceran Tertin...  \n",
       "6  Menteri Keuangan (Menkeu) Sri Mulyani menyatak...  \n",
       "7  Menteri Keuangan (Menkeu) Sri Mulyani merespon...  \n",
       "8  Harga minyak mentah atau crude oil mengalami k...  \n",
       "9  Menko Airlangga mengakui pelaku UMKM menjadi c...  "
      ]
     },
     "execution_count": 35,
     "metadata": {},
     "output_type": "execute_result"
    }
   ],
   "source": [
    "import string \n",
    "import re #regex library\n",
    "\n",
    "# import word_tokenize & FreqDist from NLTK\n",
    "from nltk.tokenize import word_tokenize \n",
    "from nltk.probability import FreqDist\n",
    "\n",
    "#remove number\n",
    "def remove_number(text):\n",
    "    return  re.sub(r\"\\d+\", \"\", text)\n",
    "\n",
    "df['hapus angka'] = df['isi'].apply(remove_number)\n",
    "df.head(10)"
   ]
  },
  {
   "cell_type": "markdown",
   "id": "53276dea",
   "metadata": {},
   "source": [
    "## Stopword"
   ]
  },
  {
   "cell_type": "markdown",
   "id": "283e4349",
   "metadata": {},
   "source": [
    "Proses selanjutnya adalah proses Stopword. Stopword merupakan proses mengabaikan kata-kata yang perlu di abaikan dalam sebuah dokumen"
   ]
  },
  {
   "cell_type": "code",
   "execution_count": 36,
   "id": "ac752ad1",
   "metadata": {},
   "outputs": [],
   "source": [
    "def clean_text(headline):\n",
    "  le=WordNetLemmatizer()\n",
    "  word_tokens=word_tokenize(headline)\n",
    "  tokens=[le.lemmatize(w) for w in word_tokens if w not in stop_words and len(w)>3]\n",
    "  cleaned_text=\" \".join(tokens)\n",
    "  return cleaned_text"
   ]
  },
  {
   "cell_type": "code",
   "execution_count": 37,
   "id": "7b93d1b1",
   "metadata": {},
   "outputs": [],
   "source": [
    "# time taking\n",
    "#nltk.download('wordnet')\n",
    "df['clean_text_isi']=df['hapus angka'].apply(clean_text)"
   ]
  },
  {
   "cell_type": "code",
   "execution_count": 38,
   "id": "c998bd3e",
   "metadata": {},
   "outputs": [
    {
     "data": {
      "text/html": [
       "<div>\n",
       "<style scoped>\n",
       "    .dataframe tbody tr th:only-of-type {\n",
       "        vertical-align: middle;\n",
       "    }\n",
       "\n",
       "    .dataframe tbody tr th {\n",
       "        vertical-align: top;\n",
       "    }\n",
       "\n",
       "    .dataframe thead th {\n",
       "        text-align: right;\n",
       "    }\n",
       "</style>\n",
       "<table border=\"1\" class=\"dataframe\">\n",
       "  <thead>\n",
       "    <tr style=\"text-align: right;\">\n",
       "      <th></th>\n",
       "      <th>isi</th>\n",
       "      <th>hapus angka</th>\n",
       "      <th>clean_text_isi</th>\n",
       "    </tr>\n",
       "  </thead>\n",
       "  <tbody>\n",
       "    <tr>\n",
       "      <th>0</th>\n",
       "      <td>Wakil Presiden Maruf Amin mengungkapkan, berda...</td>\n",
       "      <td>Wakil Presiden Maruf Amin mengungkapkan, berda...</td>\n",
       "      <td>Wakil Presiden Maruf Amin berdasarkan data Ame...</td>\n",
       "    </tr>\n",
       "    <tr>\n",
       "      <th>1</th>\n",
       "      <td>Ketua Yayasan Lembaga Konsumen Indonesia (YLKI...</td>\n",
       "      <td>Ketua Yayasan Lembaga Konsumen Indonesia (YLKI...</td>\n",
       "      <td>Ketua Yayasan Lembaga Konsumen Indonesia YLKI ...</td>\n",
       "    </tr>\n",
       "    <tr>\n",
       "      <th>2</th>\n",
       "      <td>Kementerian Keuangan tengah menyiapkan 186 pas...</td>\n",
       "      <td>Kementerian Keuangan tengah menyiapkan  pasal ...</td>\n",
       "      <td>Kementerian Keuangan pasal aturan turunan Ranc...</td>\n",
       "    </tr>\n",
       "    <tr>\n",
       "      <th>3</th>\n",
       "      <td>Indeks Harga Saham Gabungan (IHSG) hari ini me...</td>\n",
       "      <td>Indeks Harga Saham Gabungan (IHSG) hari ini me...</td>\n",
       "      <td>Indeks Harga Saham Gabungan IHSG mendarat zona...</td>\n",
       "    </tr>\n",
       "    <tr>\n",
       "      <th>4</th>\n",
       "      <td>Laju pertumbuhan ekonomi digital Indonesia dip...</td>\n",
       "      <td>Laju pertumbuhan ekonomi digital Indonesia dip...</td>\n",
       "      <td>Laju pertumbuhan ekonomi digital Indonesia dip...</td>\n",
       "    </tr>\n",
       "  </tbody>\n",
       "</table>\n",
       "</div>"
      ],
      "text/plain": [
       "                                                 isi  \\\n",
       "0  Wakil Presiden Maruf Amin mengungkapkan, berda...   \n",
       "1  Ketua Yayasan Lembaga Konsumen Indonesia (YLKI...   \n",
       "2  Kementerian Keuangan tengah menyiapkan 186 pas...   \n",
       "3  Indeks Harga Saham Gabungan (IHSG) hari ini me...   \n",
       "4  Laju pertumbuhan ekonomi digital Indonesia dip...   \n",
       "\n",
       "                                         hapus angka  \\\n",
       "0  Wakil Presiden Maruf Amin mengungkapkan, berda...   \n",
       "1  Ketua Yayasan Lembaga Konsumen Indonesia (YLKI...   \n",
       "2  Kementerian Keuangan tengah menyiapkan  pasal ...   \n",
       "3  Indeks Harga Saham Gabungan (IHSG) hari ini me...   \n",
       "4  Laju pertumbuhan ekonomi digital Indonesia dip...   \n",
       "\n",
       "                                      clean_text_isi  \n",
       "0  Wakil Presiden Maruf Amin berdasarkan data Ame...  \n",
       "1  Ketua Yayasan Lembaga Konsumen Indonesia YLKI ...  \n",
       "2  Kementerian Keuangan pasal aturan turunan Ranc...  \n",
       "3  Indeks Harga Saham Gabungan IHSG mendarat zona...  \n",
       "4  Laju pertumbuhan ekonomi digital Indonesia dip...  "
      ]
     },
     "execution_count": 38,
     "metadata": {},
     "output_type": "execute_result"
    }
   ],
   "source": [
    "df.head()"
   ]
  },
  {
   "cell_type": "markdown",
   "id": "5c0b3486",
   "metadata": {},
   "source": [
    "setelah Stopword, proses selanjutnya sama dengan proses sebelumnya yaitu menghapus data pada tabel yang tidak diperlukan dan menyisakan data pada tabel hasil proses sebelumnya."
   ]
  },
  {
   "cell_type": "code",
   "execution_count": 39,
   "id": "1de7e227",
   "metadata": {},
   "outputs": [],
   "source": [
    "df.drop(['isi'],axis=1,inplace=True)"
   ]
  },
  {
   "cell_type": "code",
   "execution_count": 40,
   "id": "2bec1d7c",
   "metadata": {},
   "outputs": [],
   "source": [
    "df.drop(['hapus angka'],axis=1,inplace=True)"
   ]
  },
  {
   "cell_type": "code",
   "execution_count": 43,
   "id": "152871ae",
   "metadata": {},
   "outputs": [
    {
     "data": {
      "text/html": [
       "<div>\n",
       "<style scoped>\n",
       "    .dataframe tbody tr th:only-of-type {\n",
       "        vertical-align: middle;\n",
       "    }\n",
       "\n",
       "    .dataframe tbody tr th {\n",
       "        vertical-align: top;\n",
       "    }\n",
       "\n",
       "    .dataframe thead th {\n",
       "        text-align: right;\n",
       "    }\n",
       "</style>\n",
       "<table border=\"1\" class=\"dataframe\">\n",
       "  <thead>\n",
       "    <tr style=\"text-align: right;\">\n",
       "      <th></th>\n",
       "      <th>clean_text_isi</th>\n",
       "    </tr>\n",
       "  </thead>\n",
       "  <tbody>\n",
       "    <tr>\n",
       "      <th>0</th>\n",
       "      <td>Wakil Presiden Maruf Amin berdasarkan data Ame...</td>\n",
       "    </tr>\n",
       "    <tr>\n",
       "      <th>1</th>\n",
       "      <td>Ketua Yayasan Lembaga Konsumen Indonesia YLKI ...</td>\n",
       "    </tr>\n",
       "    <tr>\n",
       "      <th>2</th>\n",
       "      <td>Kementerian Keuangan pasal aturan turunan Ranc...</td>\n",
       "    </tr>\n",
       "    <tr>\n",
       "      <th>3</th>\n",
       "      <td>Indeks Harga Saham Gabungan IHSG mendarat zona...</td>\n",
       "    </tr>\n",
       "    <tr>\n",
       "      <th>4</th>\n",
       "      <td>Laju pertumbuhan ekonomi digital Indonesia dip...</td>\n",
       "    </tr>\n",
       "    <tr>\n",
       "      <th>5</th>\n",
       "      <td>Menyusul dicabutnya aturan Harga Eceran Tertin...</td>\n",
       "    </tr>\n",
       "    <tr>\n",
       "      <th>6</th>\n",
       "      <td>Menteri Keuangan Menkeu Mulyani kenaikan April...</td>\n",
       "    </tr>\n",
       "    <tr>\n",
       "      <th>7</th>\n",
       "      <td>Menteri Keuangan Menkeu Mulyani merespons terk...</td>\n",
       "    </tr>\n",
       "    <tr>\n",
       "      <th>8</th>\n",
       "      <td>Harga minyak mentah crude mengalami kenaikan p...</td>\n",
       "    </tr>\n",
       "    <tr>\n",
       "      <th>9</th>\n",
       "      <td>Menko Airlangga mengakui pelaku UMKM critical ...</td>\n",
       "    </tr>\n",
       "    <tr>\n",
       "      <th>10</th>\n",
       "      <td>Asosiasi Pengusaha Ritel Indonesia Aprindo mem...</td>\n",
       "    </tr>\n",
       "    <tr>\n",
       "      <th>11</th>\n",
       "      <td>Indeks Harga Saham Gabungan IHSG menguat poin ...</td>\n",
       "    </tr>\n",
       "    <tr>\n",
       "      <th>12</th>\n",
       "      <td>Kementerian Perhubungan keputusan final terkai...</td>\n",
       "    </tr>\n",
       "    <tr>\n",
       "      <th>13</th>\n",
       "      <td>Aturan pembangunan Kota Negara Nusantara dikeb...</td>\n",
       "    </tr>\n",
       "    <tr>\n",
       "      <th>14</th>\n",
       "      <td>Otoritas Jasa Keuangan mendorong perusahaan BU...</td>\n",
       "    </tr>\n",
       "    <tr>\n",
       "      <th>15</th>\n",
       "      <td>Pencabutan Harga Eceran Tertinggi minyak goren...</td>\n",
       "    </tr>\n",
       "    <tr>\n",
       "      <th>16</th>\n",
       "      <td>Berdasarkan catatan Otoritas Jasa Keuangan per...</td>\n",
       "    </tr>\n",
       "    <tr>\n",
       "      <th>17</th>\n",
       "      <td>Wakil Ketua Rachmat Gobel mafia minyak goreng ...</td>\n",
       "    </tr>\n",
       "    <tr>\n",
       "      <th>18</th>\n",
       "      <td>GoTo Gojek Tokopedia GoTo memperpanjang penawa...</td>\n",
       "    </tr>\n",
       "    <tr>\n",
       "      <th>19</th>\n",
       "      <td>IHSG dibuka menguat perdagangan Selasa pagi IH...</td>\n",
       "    </tr>\n",
       "    <tr>\n",
       "      <th>20</th>\n",
       "      <td>Harga emas batangan Aneka Tambang Antam terpan...</td>\n",
       "    </tr>\n",
       "    <tr>\n",
       "      <th>21</th>\n",
       "      <td>perusahaan industri minyak goreng wajib menyed...</td>\n",
       "    </tr>\n",
       "    <tr>\n",
       "      <th>22</th>\n",
       "      <td>Fenomena Ghozali Everyday sukses menjual kolek...</td>\n",
       "    </tr>\n",
       "    <tr>\n",
       "      <th>23</th>\n",
       "      <td>Masyarakat khawatir panic buying Pembelian bah...</td>\n",
       "    </tr>\n",
       "    <tr>\n",
       "      <th>24</th>\n",
       "      <td>Menteri Koordinator Maritim Investasi Luhut Bi...</td>\n",
       "    </tr>\n",
       "    <tr>\n",
       "      <th>25</th>\n",
       "      <td>Indeks Harga Saham Gabungan IHSG berpotensi be...</td>\n",
       "    </tr>\n",
       "    <tr>\n",
       "      <th>26</th>\n",
       "      <td>Para pemimpin Eropa menemui jalan buntu menjat...</td>\n",
       "    </tr>\n",
       "    <tr>\n",
       "      <th>27</th>\n",
       "      <td>Investor asing terpantau aksi penjualan bersih...</td>\n",
       "    </tr>\n",
       "    <tr>\n",
       "      <th>28</th>\n",
       "      <td>Selain kenaikan pemerintah menerapkan pajak ka...</td>\n",
       "    </tr>\n",
       "    <tr>\n",
       "      <th>29</th>\n",
       "      <td>Jones Industrial Average turun poin dipicu jat...</td>\n",
       "    </tr>\n",
       "  </tbody>\n",
       "</table>\n",
       "</div>"
      ],
      "text/plain": [
       "                                       clean_text_isi\n",
       "0   Wakil Presiden Maruf Amin berdasarkan data Ame...\n",
       "1   Ketua Yayasan Lembaga Konsumen Indonesia YLKI ...\n",
       "2   Kementerian Keuangan pasal aturan turunan Ranc...\n",
       "3   Indeks Harga Saham Gabungan IHSG mendarat zona...\n",
       "4   Laju pertumbuhan ekonomi digital Indonesia dip...\n",
       "5   Menyusul dicabutnya aturan Harga Eceran Tertin...\n",
       "6   Menteri Keuangan Menkeu Mulyani kenaikan April...\n",
       "7   Menteri Keuangan Menkeu Mulyani merespons terk...\n",
       "8   Harga minyak mentah crude mengalami kenaikan p...\n",
       "9   Menko Airlangga mengakui pelaku UMKM critical ...\n",
       "10  Asosiasi Pengusaha Ritel Indonesia Aprindo mem...\n",
       "11  Indeks Harga Saham Gabungan IHSG menguat poin ...\n",
       "12  Kementerian Perhubungan keputusan final terkai...\n",
       "13  Aturan pembangunan Kota Negara Nusantara dikeb...\n",
       "14  Otoritas Jasa Keuangan mendorong perusahaan BU...\n",
       "15  Pencabutan Harga Eceran Tertinggi minyak goren...\n",
       "16  Berdasarkan catatan Otoritas Jasa Keuangan per...\n",
       "17  Wakil Ketua Rachmat Gobel mafia minyak goreng ...\n",
       "18  GoTo Gojek Tokopedia GoTo memperpanjang penawa...\n",
       "19  IHSG dibuka menguat perdagangan Selasa pagi IH...\n",
       "20  Harga emas batangan Aneka Tambang Antam terpan...\n",
       "21  perusahaan industri minyak goreng wajib menyed...\n",
       "22  Fenomena Ghozali Everyday sukses menjual kolek...\n",
       "23  Masyarakat khawatir panic buying Pembelian bah...\n",
       "24  Menteri Koordinator Maritim Investasi Luhut Bi...\n",
       "25  Indeks Harga Saham Gabungan IHSG berpotensi be...\n",
       "26  Para pemimpin Eropa menemui jalan buntu menjat...\n",
       "27  Investor asing terpantau aksi penjualan bersih...\n",
       "28  Selain kenaikan pemerintah menerapkan pajak ka...\n",
       "29  Jones Industrial Average turun poin dipicu jat..."
      ]
     },
     "execution_count": 43,
     "metadata": {},
     "output_type": "execute_result"
    }
   ],
   "source": [
    "df"
   ]
  },
  {
   "cell_type": "markdown",
   "id": "a319769f",
   "metadata": {},
   "source": [
    "Untuk menampilkan isi dari suatu index data pada tabel dapat dilakukan dengan menggunakan code berikut:"
   ]
  },
  {
   "cell_type": "code",
   "execution_count": 42,
   "id": "4ae593c2",
   "metadata": {},
   "outputs": [
    {
     "data": {
      "text/plain": [
       "'Asosiasi Pengusaha Ritel Indonesia Aprindo membeberkan free market distributor memasok minyak goreng ritel modern terbatas'"
      ]
     },
     "execution_count": 42,
     "metadata": {},
     "output_type": "execute_result"
    }
   ],
   "source": [
    "df['clean_text_isi'][10]"
   ]
  },
  {
   "cell_type": "markdown",
   "id": "61d2e84a",
   "metadata": {},
   "source": [
    "### TF-IDF"
   ]
  },
  {
   "cell_type": "markdown",
   "id": "5b279e2a",
   "metadata": {},
   "source": [
    "MENGEKSTRAKSI FITUR DAN MEMBUAT DOCUMENT-TERM-MATRIX (DTM). Nilai DTM adalah nilai dari TF-idf.\n",
    "\n",
    "Terdapat beberapa poin penting yaitu:\n",
    "\n",
    "1) LSA umumnya diimplementasikan dengan nilai Tfidf di mana-mana dan bukan dengan Count Vectorizer.\n",
    "\n",
    "2) max_features tergantung pada daya komputasi Anda dan juga pada eval. metrik (skor koherensi adalah metrik untuk model topik). Cobalah nilai yang memberikan eval terbaik. metrik dan tidak membatasi kekuatan pemrosesan.\n",
    "\n",
    "3) Nilai default untuk min_df &max_df bekerja dengan baik.\n",
    "\n",
    "4) Dapat mencoba nilai yang berbeda untuk ngram_range."
   ]
  },
  {
   "cell_type": "code",
   "execution_count": 45,
   "id": "3806a51b",
   "metadata": {},
   "outputs": [],
   "source": [
    "vect =TfidfVectorizer(stop_words=stop_words,max_features=1000) "
   ]
  },
  {
   "cell_type": "code",
   "execution_count": 48,
   "id": "37145d7c",
   "metadata": {},
   "outputs": [],
   "source": [
    "vect_text=vect.fit_transform(df['clean_text_isi'])"
   ]
  },
  {
   "cell_type": "code",
   "execution_count": 49,
   "id": "0876db3b",
   "metadata": {},
   "outputs": [
    {
     "name": "stdout",
     "output_type": "stream",
     "text": [
      "(30, 274)\n",
      "  (0, 93)\t0.2165271149567325\n",
      "  (0, 192)\t0.2867690431796365\n",
      "  (0, 39)\t0.2867690431796365\n",
      "  (0, 30)\t0.2867690431796365\n",
      "  (0, 113)\t0.2867690431796365\n",
      "  (0, 241)\t0.2867690431796365\n",
      "  (0, 6)\t0.2867690431796365\n",
      "  (0, 47)\t0.2867690431796365\n",
      "  (0, 25)\t0.25568649478108163\n",
      "  (0, 7)\t0.2867690431796365\n",
      "  (0, 140)\t0.2867690431796365\n",
      "  (0, 226)\t0.2867690431796365\n",
      "  (0, 270)\t0.25568649478108163\n",
      "  (1, 130)\t0.26858557741510825\n",
      "  (1, 115)\t0.21881885803291912\n",
      "  (1, 46)\t0.23947391279261487\n",
      "  (1, 84)\t0.17863945218504915\n",
      "  (1, 176)\t0.15303083349122784\n",
      "  (1, 86)\t0.13994047402823656\n",
      "  (1, 239)\t0.26858557741510825\n",
      "  (1, 59)\t0.26858557741510825\n",
      "  (1, 160)\t0.26858557741510825\n",
      "  (1, 0)\t0.26858557741510825\n",
      "  (1, 260)\t0.26858557741510825\n",
      "  (1, 272)\t0.26858557741510825\n",
      "  :\t:\n",
      "  (27, 235)\t0.2005516098159421\n",
      "  (28, 27)\t0.37180473370818173\n",
      "  (28, 91)\t0.37180473370818173\n",
      "  (28, 109)\t0.37180473370818173\n",
      "  (28, 190)\t0.37180473370818173\n",
      "  (28, 154)\t0.37180473370818173\n",
      "  (28, 202)\t0.37180473370818173\n",
      "  (28, 12)\t0.3029123455706503\n",
      "  (28, 117)\t0.2807339503052941\n",
      "  (29, 2)\t0.2590543725703156\n",
      "  (29, 65)\t0.2590543725703156\n",
      "  (29, 43)\t0.2590543725703156\n",
      "  (29, 223)\t0.2590543725703156\n",
      "  (29, 112)\t0.2590543725703156\n",
      "  (29, 96)\t0.2590543725703156\n",
      "  (29, 33)\t0.2590543725703156\n",
      "  (29, 103)\t0.2590543725703156\n",
      "  (29, 55)\t0.2590543725703156\n",
      "  (29, 261)\t0.2590543725703156\n",
      "  (29, 18)\t0.2590543725703156\n",
      "  (29, 95)\t0.2590543725703156\n",
      "  (29, 105)\t0.2590543725703156\n",
      "  (29, 169)\t0.2309757836682696\n",
      "  (29, 225)\t0.2110537077970523\n",
      "  (29, 235)\t0.17230013483032108\n"
     ]
    }
   ],
   "source": [
    "print(vect_text.shape)\n",
    "print(vect_text)"
   ]
  },
  {
   "cell_type": "code",
   "execution_count": 51,
   "id": "a2f379d8",
   "metadata": {},
   "outputs": [],
   "source": [
    "idf=vect.idf_"
   ]
  },
  {
   "cell_type": "markdown",
   "id": "6474e26c",
   "metadata": {},
   "source": [
    "Dari hasil di atas dapat dilihat kata-kata yang paling sering muncul dan langka pada document berdasarkan skor idf. Semakin rendah nilainya berarti kata tersebut jarang muncul di document, sedangkan semakin tinggi nilainya menandakan bahwa kata tersebut sering muncul pada document."
   ]
  },
  {
   "cell_type": "markdown",
   "id": "7325be58",
   "metadata": {},
   "source": [
    "## Modelling Latent Semantic Analysis (LSA)"
   ]
  },
  {
   "cell_type": "markdown",
   "id": "adce498d",
   "metadata": {},
   "source": [
    "LSA pada dasarnya adalah dekomposisi nilai tunggal.\n",
    "\n",
    "SVD menguraikan DTM asli menjadi tiga matriks S=U.(sigma). (V.T). Di sini matriks U menunjukkan matriks dokumen-topik sedangkan (V) adalah matriks topik-istilah.\n",
    "\n",
    "Setiap baris matriks U (document-term matrix) adalah representasi vektor dari dokumen yang sesuai. Panjang vektor ini adalah jumlah topik yang diinginkan. Representasi vektor untuk istilah-istilah dalam data kami dapat ditemukan dalam matriks V (matriks term-topic).\n",
    "\n",
    "Jadi, SVD memberi kita vektor untuk setiap dokumen dan istilah dalam data kita. Panjang setiap vektor adalah k. Kita kemudian dapat menggunakan vektor-vektor ini untuk menemukan kata-kata serupa dan dokumen serupa menggunakan metode kesamaan kosinus.\n",
    "\n",
    "Kita dapat menggunakan fungsi truncatedSVD untuk mengimplementasikan LSA. Parameter n_components adalah jumlah topik yang ingin kami ekstrak. Model kemudian cocok dan diubah pada hasil yang diberikan oleh vectorizer.\n",
    "\n"
   ]
  },
  {
   "cell_type": "code",
   "execution_count": null,
   "id": "683558f0",
   "metadata": {},
   "outputs": [],
   "source": []
  }
 ],
 "metadata": {
  "kernelspec": {
   "display_name": "Python 3 (ipykernel)",
   "language": "python",
   "name": "python3"
  },
  "language_info": {
   "codemirror_mode": {
    "name": "ipython",
    "version": 3
   },
   "file_extension": ".py",
   "mimetype": "text/x-python",
   "name": "python",
   "nbconvert_exporter": "python",
   "pygments_lexer": "ipython3",
   "version": "3.9.0"
  }
 },
 "nbformat": 4,
 "nbformat_minor": 5
}
