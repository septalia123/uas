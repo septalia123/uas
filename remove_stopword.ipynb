{
  "nbformat": 4,
  "nbformat_minor": 0,
  "metadata": {
    "colab": {
      "name": "remove stopword.ipynb",
      "provenance": [],
      "collapsed_sections": []
    },
    "kernelspec": {
      "name": "python3",
      "display_name": "Python 3"
    },
    "language_info": {
      "name": "python"
    }
  },
  "cells": [
    {
      "cell_type": "code",
      "execution_count": null,
      "metadata": {
        "id": "Min4QUV2aj2i"
      },
      "outputs": [],
      "source": [
        "import nltk"
      ]
    },
    {
      "cell_type": "code",
      "source": [
        "nltk.download('punkt')"
      ],
      "metadata": {
        "colab": {
          "base_uri": "https://localhost:8080/"
        },
        "id": "3BYkP7sPeUSO",
        "outputId": "99335403-8004-47b6-9015-bee92c5b5ce3"
      },
      "execution_count": null,
      "outputs": [
        {
          "output_type": "stream",
          "name": "stdout",
          "text": [
            "[nltk_data] Downloading package punkt to /root/nltk_data...\n",
            "[nltk_data]   Unzipping tokenizers/punkt.zip.\n"
          ]
        },
        {
          "output_type": "execute_result",
          "data": {
            "text/plain": [
              "True"
            ]
          },
          "metadata": {},
          "execution_count": 10
        }
      ]
    },
    {
      "cell_type": "code",
      "source": [
        "!pip install Sastrawi"
      ],
      "metadata": {
        "colab": {
          "base_uri": "https://localhost:8080/"
        },
        "id": "YMSG7StmkJhL",
        "outputId": "f01ffd5d-62e0-4a8d-ad47-1fdb9dca1f13"
      },
      "execution_count": null,
      "outputs": [
        {
          "output_type": "stream",
          "name": "stdout",
          "text": [
            "Collecting Sastrawi\n",
            "  Downloading Sastrawi-1.0.1-py2.py3-none-any.whl (209 kB)\n",
            "\u001b[?25l\r\u001b[K     |█▋                              | 10 kB 14.5 MB/s eta 0:00:01\r\u001b[K     |███▏                            | 20 kB 16.1 MB/s eta 0:00:01\r\u001b[K     |████▊                           | 30 kB 10.4 MB/s eta 0:00:01\r\u001b[K     |██████▎                         | 40 kB 9.4 MB/s eta 0:00:01\r\u001b[K     |███████▉                        | 51 kB 4.5 MB/s eta 0:00:01\r\u001b[K     |█████████▍                      | 61 kB 5.3 MB/s eta 0:00:01\r\u001b[K     |███████████                     | 71 kB 6.0 MB/s eta 0:00:01\r\u001b[K     |████████████▌                   | 81 kB 4.4 MB/s eta 0:00:01\r\u001b[K     |██████████████                  | 92 kB 4.9 MB/s eta 0:00:01\r\u001b[K     |███████████████▋                | 102 kB 5.3 MB/s eta 0:00:01\r\u001b[K     |█████████████████▏              | 112 kB 5.3 MB/s eta 0:00:01\r\u001b[K     |██████████████████▊             | 122 kB 5.3 MB/s eta 0:00:01\r\u001b[K     |████████████████████▎           | 133 kB 5.3 MB/s eta 0:00:01\r\u001b[K     |█████████████████████▉          | 143 kB 5.3 MB/s eta 0:00:01\r\u001b[K     |███████████████████████▍        | 153 kB 5.3 MB/s eta 0:00:01\r\u001b[K     |█████████████████████████       | 163 kB 5.3 MB/s eta 0:00:01\r\u001b[K     |██████████████████████████▋     | 174 kB 5.3 MB/s eta 0:00:01\r\u001b[K     |████████████████████████████▏   | 184 kB 5.3 MB/s eta 0:00:01\r\u001b[K     |█████████████████████████████▊  | 194 kB 5.3 MB/s eta 0:00:01\r\u001b[K     |███████████████████████████████▎| 204 kB 5.3 MB/s eta 0:00:01\r\u001b[K     |████████████████████████████████| 209 kB 5.3 MB/s \n",
            "\u001b[?25hInstalling collected packages: Sastrawi\n",
            "Successfully installed Sastrawi-1.0.1\n"
          ]
        }
      ]
    },
    {
      "cell_type": "code",
      "source": [
        "nltk.download('stopwords')"
      ],
      "metadata": {
        "colab": {
          "base_uri": "https://localhost:8080/"
        },
        "id": "pDrfWK-tauvx",
        "outputId": "df59fdcd-5cb6-4cbb-fa17-df7095e0a440"
      },
      "execution_count": null,
      "outputs": [
        {
          "output_type": "stream",
          "name": "stdout",
          "text": [
            "[nltk_data] Downloading package stopwords to /root/nltk_data...\n",
            "[nltk_data]   Unzipping corpora/stopwords.zip.\n"
          ]
        },
        {
          "output_type": "execute_result",
          "data": {
            "text/plain": [
              "True"
            ]
          },
          "metadata": {},
          "execution_count": 2
        }
      ]
    },
    {
      "cell_type": "code",
      "source": [
        "from nltk.corpus import stopwords\n",
        "from nltk.tokenize import word_tokenize\n",
        "from nltk.tokenize import word_tokenize\n",
        "\n",
        "from Sastrawi.Stemmer.StemmerFactory import StemmerFactory\n",
        "\n",
        "# create stemmer\n",
        "factory = StemmerFactory()\n",
        "stemmer = factory.create_stemmer()\n",
        "\n",
        "# Add text\n",
        "text = \"Saya akan makanan nasi di warung\"\n",
        "kata =text.lower()\n",
        "tokens = word_tokenize(kata)\n",
        "print(tokens)\n",
        "\n",
        "\n",
        "english_stopwords = stopwords.words('indonesian')\n",
        "list=['makan', 'nasi']\n",
        "english_stopwords.extend(list)\n",
        "tokens_wo_stopwords = [t for t in tokens if t not in english_stopwords]\n",
        "print(tokens_wo_stopwords)\n",
        "\n",
        "print(\"Text without stop words:\", \" \".join(tokens_wo_stopwords))\n",
        "sting=\" \".join(tokens_wo_stopwords)\n",
        "print(sting)\n",
        "output   = stemmer.stem(sting)\n",
        "print(output)"
      ],
      "metadata": {
        "colab": {
          "base_uri": "https://localhost:8080/"
        },
        "id": "oxNnskuRa8KG",
        "outputId": "74d2ced7-594b-4142-f2d3-b686e0081a35"
      },
      "execution_count": null,
      "outputs": [
        {
          "output_type": "stream",
          "name": "stdout",
          "text": [
            "['saya', 'akan', 'makanan', 'nasi', 'di', 'warung']\n",
            "['makanan', 'warung']\n",
            "Text without stop words: makanan warung\n",
            "makanan warung\n",
            "makan warung\n"
          ]
        }
      ]
    },
    {
      "cell_type": "code",
      "source": [
        "import numpy as np\n",
        "#import PyPDF2\n",
        "#import doctext\n",
        "import sys\n",
        "from sklearn.feature_extraction.text import TfidfTransformer, CountVectorizer"
      ],
      "metadata": {
        "id": "zOTZLyk1pu27"
      },
      "execution_count": null,
      "outputs": []
    },
    {
      "cell_type": "code",
      "source": [
        "cv = CountVectorizer()\n",
        "cv_demo = CountVectorizer() \n"
      ],
      "metadata": {
        "id": "tP52YGUNqmlR"
      },
      "execution_count": null,
      "outputs": []
    },
    {
      "cell_type": "code",
      "source": [
        "demo_teks = [\"Saya suka yang baik baik, kamu suka yang jelek jelek\", \"Saya tidak baik \"] \n",
        "cv_matrix = cv.fit_transform(demo_teks)\n",
        "res_demo = cv_demo.fit_transform(demo_teks)\n",
        "print('Arraynya adalah {}'.format(res_demo.toarray()))\n",
        "print('Feature list: {}'.format(cv_demo.get_feature_names_out()))"
      ],
      "metadata": {
        "colab": {
          "base_uri": "https://localhost:8080/"
        },
        "id": "xpcaZLT-pg64",
        "outputId": "ab999b97-fbdc-4153-da87-a2ca59b71a8f"
      },
      "execution_count": null,
      "outputs": [
        {
          "output_type": "stream",
          "name": "stdout",
          "text": [
            "Arraynya adalah [[2 1 1 1 1 0]\n",
            " [1 0 0 1 0 1]]\n",
            "Feature list: ['baik' 'jelek' 'kamu' 'saya' 'suka' 'tidak']\n"
          ]
        }
      ]
    },
    {
      "cell_type": "code",
      "source": [
        "normal_matrix = TfidfTransformer().fit_transform(res_demo)"
      ],
      "metadata": {
        "id": "S3H-NW84sg7M"
      },
      "execution_count": null,
      "outputs": []
    },
    {
      "cell_type": "code",
      "source": [
        "print(normal_matrix.toarray())"
      ],
      "metadata": {
        "colab": {
          "base_uri": "https://localhost:8080/"
        },
        "id": "eJDZvp7OspQ9",
        "outputId": "235313d0-8eaa-499b-8e4e-a7e900554dee"
      },
      "execution_count": null,
      "outputs": [
        {
          "output_type": "stream",
          "name": "stdout",
          "text": [
            "[[0.60506143 0.42519636 0.42519636 0.30253071 0.42519636 0.        ]\n",
            " [0.50154891 0.         0.         0.50154891 0.         0.70490949]]\n"
          ]
        }
      ]
    },
    {
      "cell_type": "code",
      "source": [
        "!pip install docx-text"
      ],
      "metadata": {
        "colab": {
          "base_uri": "https://localhost:8080/"
        },
        "id": "3gQffgc71v8b",
        "outputId": "6fa63f6c-1230-4bb5-a806-dcfb52efc7aa"
      },
      "execution_count": 24,
      "outputs": [
        {
          "output_type": "stream",
          "name": "stdout",
          "text": [
            "Collecting docx-text\n",
            "  Downloading docx_text-0.1.2-py3-none-any.whl (4.0 kB)\n",
            "Installing collected packages: docx-text\n",
            "Successfully installed docx-text-0.1.2\n"
          ]
        }
      ]
    },
    {
      "cell_type": "code",
      "source": [
        "!pip install PyPDF3"
      ],
      "metadata": {
        "colab": {
          "base_uri": "https://localhost:8080/"
        },
        "id": "faZTfPcS16tY",
        "outputId": "2f12ad36-7b91-4403-a745-b5112095c2c9"
      },
      "execution_count": 25,
      "outputs": [
        {
          "output_type": "stream",
          "name": "stdout",
          "text": [
            "Requirement already satisfied: PyPDF3 in /usr/local/lib/python3.7/dist-packages (1.0.6)\n",
            "Requirement already satisfied: tqdm in /usr/local/lib/python3.7/dist-packages (from PyPDF3) (4.63.0)\n"
          ]
        }
      ]
    },
    {
      "cell_type": "code",
      "source": [
        "import numpy as np\n",
        "import PyPDF3\n",
        "import doctext\n",
        "import sys\n",
        "from IPython.display import Image"
      ],
      "metadata": {
        "id": "kbP-19d1tRoD"
      },
      "execution_count": 26,
      "outputs": []
    },
    {
      "cell_type": "code",
      "source": [
        "import matplotlib.pyplot as plt\n",
        "%matplotlib inline "
      ],
      "metadata": {
        "id": "-41HJ_Q62Cgd"
      },
      "execution_count": 27,
      "outputs": []
    },
    {
      "cell_type": "code",
      "source": [
        "import networkx as nx"
      ],
      "metadata": {
        "id": "WGFk9T7a2G7_"
      },
      "execution_count": 28,
      "outputs": []
    },
    {
      "cell_type": "code",
      "source": [
        "from nltk.tokenize.punkt import PunktSentenceTokenizer"
      ],
      "metadata": {
        "id": "6FjzRyuT2R2F"
      },
      "execution_count": 29,
      "outputs": []
    },
    {
      "cell_type": "code",
      "source": [
        "from sklearn.feature_extraction.text import TfidfTransformer, CountVectorizer"
      ],
      "metadata": {
        "id": "FzN2uuVu2Waj"
      },
      "execution_count": 30,
      "outputs": []
    },
    {
      "cell_type": "code",
      "source": [
        "!pwd"
      ],
      "metadata": {
        "colab": {
          "base_uri": "https://localhost:8080/"
        },
        "id": "xgb3NF862qdG",
        "outputId": "8141a723-a82c-4f04-bd9f-3b0484d57b53"
      },
      "execution_count": 31,
      "outputs": [
        {
          "output_type": "stream",
          "name": "stdout",
          "text": [
            "/content\n"
          ]
        }
      ]
    },
    {
      "cell_type": "code",
      "source": [
        "%cd /content/drive/MyDrive/Colab Notebooks"
      ],
      "metadata": {
        "colab": {
          "base_uri": "https://localhost:8080/"
        },
        "id": "fYwhyovN23k-",
        "outputId": "deea8113-0f1d-47c9-b1fc-54d0725e41ba"
      },
      "execution_count": 34,
      "outputs": [
        {
          "output_type": "stream",
          "name": "stdout",
          "text": [
            "/content/drive/MyDrive/Colab Notebooks\n"
          ]
        }
      ]
    },
    {
      "cell_type": "code",
      "source": [
        "pdfFileObj = open('datatext.pdf', 'rb') # digantikan hasil crawling anda\n",
        "pdfReader = PyPDF3.PdfFileReader(pdfFileObj)\n",
        "pageObj = pdfReader.getPage(0)\n",
        "document = pageObj.extractText()"
      ],
      "metadata": {
        "id": "WBPesk4d4h5u"
      },
      "execution_count": 36,
      "outputs": []
    },
    {
      "cell_type": "code",
      "source": [
        "doc_tokenizer = PunktSentenceTokenizer()\n",
        "sentences_list = doc_tokenizer.tokenize(document)"
      ],
      "metadata": {
        "id": "RWI3Man44sZt"
      },
      "execution_count": 37,
      "outputs": []
    },
    {
      "cell_type": "code",
      "source": [
        "!pip install sastrawi"
      ],
      "metadata": {
        "colab": {
          "base_uri": "https://localhost:8080/"
        },
        "id": "6Or8Hcca4zYU",
        "outputId": "34b38d76-baf4-4978-ac65-9109f86986d8"
      },
      "execution_count": 38,
      "outputs": [
        {
          "output_type": "stream",
          "name": "stdout",
          "text": [
            "Collecting sastrawi\n",
            "  Downloading Sastrawi-1.0.1-py2.py3-none-any.whl (209 kB)\n",
            "\u001b[?25l\r\u001b[K     |█▋                              | 10 kB 21.0 MB/s eta 0:00:01\r\u001b[K     |███▏                            | 20 kB 26.1 MB/s eta 0:00:01\r\u001b[K     |████▊                           | 30 kB 13.8 MB/s eta 0:00:01\r\u001b[K     |██████▎                         | 40 kB 5.9 MB/s eta 0:00:01\r\u001b[K     |███████▉                        | 51 kB 5.4 MB/s eta 0:00:01\r\u001b[K     |█████████▍                      | 61 kB 6.4 MB/s eta 0:00:01\r\u001b[K     |███████████                     | 71 kB 7.0 MB/s eta 0:00:01\r\u001b[K     |████████████▌                   | 81 kB 5.4 MB/s eta 0:00:01\r\u001b[K     |██████████████                  | 92 kB 6.1 MB/s eta 0:00:01\r\u001b[K     |███████████████▋                | 102 kB 6.6 MB/s eta 0:00:01\r\u001b[K     |█████████████████▏              | 112 kB 6.6 MB/s eta 0:00:01\r\u001b[K     |██████████████████▊             | 122 kB 6.6 MB/s eta 0:00:01\r\u001b[K     |████████████████████▎           | 133 kB 6.6 MB/s eta 0:00:01\r\u001b[K     |█████████████████████▉          | 143 kB 6.6 MB/s eta 0:00:01\r\u001b[K     |███████████████████████▍        | 153 kB 6.6 MB/s eta 0:00:01\r\u001b[K     |█████████████████████████       | 163 kB 6.6 MB/s eta 0:00:01\r\u001b[K     |██████████████████████████▋     | 174 kB 6.6 MB/s eta 0:00:01\r\u001b[K     |████████████████████████████▏   | 184 kB 6.6 MB/s eta 0:00:01\r\u001b[K     |█████████████████████████████▊  | 194 kB 6.6 MB/s eta 0:00:01\r\u001b[K     |███████████████████████████████▎| 204 kB 6.6 MB/s eta 0:00:01\r\u001b[K     |████████████████████████████████| 209 kB 6.6 MB/s \n",
            "\u001b[?25hInstalling collected packages: sastrawi\n",
            "Successfully installed sastrawi-1.0.1\n"
          ]
        }
      ]
    },
    {
      "cell_type": "code",
      "source": [
        "import string \n",
        "from Sastrawi.Stemmer.StemmerFactory import StemmerFactory# create stemmer\n",
        "factory = StemmerFactory()\n",
        "stemmer = factory.create_stemmer()"
      ],
      "metadata": {
        "id": "_xcsetd944Vg"
      },
      "execution_count": 39,
      "outputs": []
    },
    {
      "cell_type": "code",
      "source": [
        "import re # impor modul regular expressionkalimat = \"Berikut ini adalah 5 negara dengan pendidikan terbaik di dunia adalah Korea Selatan, Jepang, Singapura, Hong Kong, dan Finlandia.\"\n",
        "dokumenre=[]\n",
        "for i in sentences_list:\n",
        "    hasil = re.sub(r\"\\d+\", \"\", i)\n",
        "    dokumenre.append(hasil) \n",
        "print(dokumenre)"
      ],
      "metadata": {
        "colab": {
          "base_uri": "https://localhost:8080/"
        },
        "id": "Q6_toex548ok",
        "outputId": "c7ffb79f-0544-4bbb-de11-433e6141e51d"
      },
      "execution_count": 40,
      "outputs": [
        {
          "output_type": "stream",
          "name": "stdout",
          "text": [
            "['Saya\\n \\nsuka\\n \\nyang\\n \\nbaik\\n \\nb\\naik,\\n \\nkamu\\n \\nsuka\\n \\nyang\\n \\njel\\nek jelek.', 'Saya\\n \\ntidak\\n \\nsukan yang jelek\\n.']\n"
          ]
        }
      ]
    },
    {
      "cell_type": "code",
      "source": [
        "dokumen=[]\n",
        "for i in dokumenre:\n",
        "    hasil =  i.replace('\\n','') \n",
        "    dokumen.append(hasil) \n",
        "print(dokumen)"
      ],
      "metadata": {
        "colab": {
          "base_uri": "https://localhost:8080/"
        },
        "id": "WnCHaT6r5ITj",
        "outputId": "1670eef8-5c2f-43ba-f0e0-2d9f1e019507"
      },
      "execution_count": 41,
      "outputs": [
        {
          "output_type": "stream",
          "name": "stdout",
          "text": [
            "['Saya suka yang baik baik, kamu suka yang jelek jelek.', 'Saya tidak sukan yang jelek.']\n"
          ]
        }
      ]
    },
    {
      "cell_type": "code",
      "source": [
        "from Sastrawi.StopWordRemover.StopWordRemoverFactory import StopWordRemoverFactory\n",
        "from nltk.tokenize import word_tokenize\n",
        "factory = StopWordRemoverFactory()\n",
        "stopword  = factory.create_stop_word_remover()\n"
      ],
      "metadata": {
        "id": "3itGTm9o5Sky"
      },
      "execution_count": 42,
      "outputs": []
    },
    {
      "cell_type": "code",
      "source": [
        "a=len(dokumen)\n",
        "dokumenstop=[]\n",
        "for i in range(0, a):\n",
        "    sentence = stopword.remove(dokumen[i])\n",
        "    dokumenstop.append(sentence)\n",
        "print(dokumenstop)   "
      ],
      "metadata": {
        "colab": {
          "base_uri": "https://localhost:8080/"
        },
        "id": "4mxTjRd35WRb",
        "outputId": "d43b966b-0ddf-4656-97eb-9dfda32b6283"
      },
      "execution_count": 43,
      "outputs": [
        {
          "output_type": "stream",
          "name": "stdout",
          "text": [
            "['Saya suka baik baik, kamu suka jelek jelek.', 'Saya sukan jelek.']\n"
          ]
        }
      ]
    },
    {
      "cell_type": "code",
      "source": [
        "from Sastrawi.StopWordRemover.StopWordRemoverFactory import StopWordRemoverFactory\n",
        "from nltk.tokenize import word_tokenize\n",
        "factory = StopWordRemoverFactory()\n",
        "dokumenstop=[]\n",
        "for i in dokumen:\n",
        "    output = i.translate(str.maketrans(\"\",\"\",string.punctuation))\n",
        "    dokumenstop.append(output)\n",
        "    \n",
        "print(dokumenstop)"
      ],
      "metadata": {
        "colab": {
          "base_uri": "https://localhost:8080/"
        },
        "id": "Xy1obz5A51wV",
        "outputId": "bf554bad-b3f8-4941-e63e-4467dcd98a42"
      },
      "execution_count": 44,
      "outputs": [
        {
          "output_type": "stream",
          "name": "stdout",
          "text": [
            "['Saya suka yang baik baik kamu suka yang jelek jelek', 'Saya tidak sukan yang jelek']\n"
          ]
        }
      ]
    },
    {
      "cell_type": "code",
      "source": [
        "factory = StemmerFactory()\n",
        "stemmer = factory.create_stemmer()\n",
        "dokumenstem=[]\n",
        "for i in dokumenstop:\n",
        "    output = stemmer.stem(i)\n",
        "    dokumenstem.append(output)\n",
        "print(dokumenstem)"
      ],
      "metadata": {
        "colab": {
          "base_uri": "https://localhost:8080/"
        },
        "id": "WQjfa4lp5_zg",
        "outputId": "c244c7cf-4e00-4b75-965c-7b5681d5fbd1"
      },
      "execution_count": 45,
      "outputs": [
        {
          "output_type": "stream",
          "name": "stdout",
          "text": [
            "['saya suka yang baik baik kamu suka yang jelek jelek', 'saya tidak sukan yang jelek']\n"
          ]
        }
      ]
    },
    {
      "cell_type": "code",
      "source": [
        "vectorizer = CountVectorizer(min_df=1)\n",
        "bag = vectorizer.fit_transform(dokumenstem)\n"
      ],
      "metadata": {
        "id": "piALLsS-6NZb"
      },
      "execution_count": 62,
      "outputs": []
    },
    {
      "cell_type": "code",
      "source": [
        "print(vectorizer.vocabulary_)"
      ],
      "metadata": {
        "colab": {
          "base_uri": "https://localhost:8080/"
        },
        "id": "Ua08Wk4F7j0r",
        "outputId": "9afd3130-8902-4144-a10c-7b7c9a821d01"
      },
      "execution_count": 63,
      "outputs": [
        {
          "output_type": "stream",
          "name": "stdout",
          "text": [
            "{'saya': 3, 'suka': 4, 'yang': 7, 'baik': 0, 'kamu': 2, 'jelek': 1, 'tidak': 6, 'sukan': 5}\n"
          ]
        }
      ]
    },
    {
      "cell_type": "code",
      "source": [
        "print(vectorizer.get_feature_names_out())"
      ],
      "metadata": {
        "colab": {
          "base_uri": "https://localhost:8080/"
        },
        "id": "1U5SxAaG8aNy",
        "outputId": "587ad73c-4642-455f-fee1-086f975d543d"
      },
      "execution_count": 64,
      "outputs": [
        {
          "output_type": "stream",
          "name": "stdout",
          "text": [
            "['baik' 'jelek' 'kamu' 'saya' 'suka' 'sukan' 'tidak' 'yang']\n"
          ]
        }
      ]
    },
    {
      "cell_type": "code",
      "source": [
        "matrik_vsm=bag.toarray()\n",
        "#print(matrik_vsm)\n",
        "matrik_vsm.shape"
      ],
      "metadata": {
        "colab": {
          "base_uri": "https://localhost:8080/"
        },
        "id": "ygAfAQMz8oXK",
        "outputId": "fc2b8b90-88cb-4a20-f950-79ea00bc7f4a"
      },
      "execution_count": 65,
      "outputs": [
        {
          "output_type": "execute_result",
          "data": {
            "text/plain": [
              "(2, 8)"
            ]
          },
          "metadata": {},
          "execution_count": 65
        }
      ]
    },
    {
      "cell_type": "code",
      "source": [
        "matrik_vsm[0]"
      ],
      "metadata": {
        "colab": {
          "base_uri": "https://localhost:8080/"
        },
        "id": "ffNqxX-t8tNa",
        "outputId": "6c22c560-c17d-49a4-fdba-4f64b835d73e"
      },
      "execution_count": 66,
      "outputs": [
        {
          "output_type": "execute_result",
          "data": {
            "text/plain": [
              "array([2, 2, 1, 1, 2, 0, 0, 2])"
            ]
          },
          "metadata": {},
          "execution_count": 66
        }
      ]
    },
    {
      "cell_type": "code",
      "source": [
        "import pandas as pd\n",
        "a=vectorizer.get_feature_names_out()"
      ],
      "metadata": {
        "id": "etWhxAJs832P"
      },
      "execution_count": 67,
      "outputs": []
    },
    {
      "cell_type": "code",
      "source": [
        "print(len(matrik_vsm[:,1]))\n",
        "#dfb =pd.DataFrame(data=matrik_vsm,index=df,columns=[a])\n",
        "dfb =pd.DataFrame(data=matrik_vsm,index=list(range(1, len(matrik_vsm[:,1])+1, )),columns=[a])\n",
        "dfb"
      ],
      "metadata": {
        "colab": {
          "base_uri": "https://localhost:8080/",
          "height": 131
        },
        "id": "7CCB1Bdp9Bo8",
        "outputId": "8c8496fa-b694-49be-c831-4dc6c2fa8aa0"
      },
      "execution_count": 77,
      "outputs": [
        {
          "output_type": "stream",
          "name": "stdout",
          "text": [
            "2\n"
          ]
        },
        {
          "output_type": "execute_result",
          "data": {
            "text/plain": [
              "  baik jelek kamu saya suka sukan tidak yang\n",
              "1    2     2    1    1    2     0     0    2\n",
              "2    0     1    0    1    0     1     1    1"
            ],
            "text/html": [
              "\n",
              "  <div id=\"df-2596f1e0-9031-4bda-a5a0-a51b6a642704\">\n",
              "    <div class=\"colab-df-container\">\n",
              "      <div>\n",
              "<style scoped>\n",
              "    .dataframe tbody tr th:only-of-type {\n",
              "        vertical-align: middle;\n",
              "    }\n",
              "\n",
              "    .dataframe tbody tr th {\n",
              "        vertical-align: top;\n",
              "    }\n",
              "\n",
              "    .dataframe thead tr th {\n",
              "        text-align: left;\n",
              "    }\n",
              "</style>\n",
              "<table border=\"1\" class=\"dataframe\">\n",
              "  <thead>\n",
              "    <tr>\n",
              "      <th></th>\n",
              "      <th>baik</th>\n",
              "      <th>jelek</th>\n",
              "      <th>kamu</th>\n",
              "      <th>saya</th>\n",
              "      <th>suka</th>\n",
              "      <th>sukan</th>\n",
              "      <th>tidak</th>\n",
              "      <th>yang</th>\n",
              "    </tr>\n",
              "  </thead>\n",
              "  <tbody>\n",
              "    <tr>\n",
              "      <th>1</th>\n",
              "      <td>2</td>\n",
              "      <td>2</td>\n",
              "      <td>1</td>\n",
              "      <td>1</td>\n",
              "      <td>2</td>\n",
              "      <td>0</td>\n",
              "      <td>0</td>\n",
              "      <td>2</td>\n",
              "    </tr>\n",
              "    <tr>\n",
              "      <th>2</th>\n",
              "      <td>0</td>\n",
              "      <td>1</td>\n",
              "      <td>0</td>\n",
              "      <td>1</td>\n",
              "      <td>0</td>\n",
              "      <td>1</td>\n",
              "      <td>1</td>\n",
              "      <td>1</td>\n",
              "    </tr>\n",
              "  </tbody>\n",
              "</table>\n",
              "</div>\n",
              "      <button class=\"colab-df-convert\" onclick=\"convertToInteractive('df-2596f1e0-9031-4bda-a5a0-a51b6a642704')\"\n",
              "              title=\"Convert this dataframe to an interactive table.\"\n",
              "              style=\"display:none;\">\n",
              "        \n",
              "  <svg xmlns=\"http://www.w3.org/2000/svg\" height=\"24px\"viewBox=\"0 0 24 24\"\n",
              "       width=\"24px\">\n",
              "    <path d=\"M0 0h24v24H0V0z\" fill=\"none\"/>\n",
              "    <path d=\"M18.56 5.44l.94 2.06.94-2.06 2.06-.94-2.06-.94-.94-2.06-.94 2.06-2.06.94zm-11 1L8.5 8.5l.94-2.06 2.06-.94-2.06-.94L8.5 2.5l-.94 2.06-2.06.94zm10 10l.94 2.06.94-2.06 2.06-.94-2.06-.94-.94-2.06-.94 2.06-2.06.94z\"/><path d=\"M17.41 7.96l-1.37-1.37c-.4-.4-.92-.59-1.43-.59-.52 0-1.04.2-1.43.59L10.3 9.45l-7.72 7.72c-.78.78-.78 2.05 0 2.83L4 21.41c.39.39.9.59 1.41.59.51 0 1.02-.2 1.41-.59l7.78-7.78 2.81-2.81c.8-.78.8-2.07 0-2.86zM5.41 20L4 18.59l7.72-7.72 1.47 1.35L5.41 20z\"/>\n",
              "  </svg>\n",
              "      </button>\n",
              "      \n",
              "  <style>\n",
              "    .colab-df-container {\n",
              "      display:flex;\n",
              "      flex-wrap:wrap;\n",
              "      gap: 12px;\n",
              "    }\n",
              "\n",
              "    .colab-df-convert {\n",
              "      background-color: #E8F0FE;\n",
              "      border: none;\n",
              "      border-radius: 50%;\n",
              "      cursor: pointer;\n",
              "      display: none;\n",
              "      fill: #1967D2;\n",
              "      height: 32px;\n",
              "      padding: 0 0 0 0;\n",
              "      width: 32px;\n",
              "    }\n",
              "\n",
              "    .colab-df-convert:hover {\n",
              "      background-color: #E2EBFA;\n",
              "      box-shadow: 0px 1px 2px rgba(60, 64, 67, 0.3), 0px 1px 3px 1px rgba(60, 64, 67, 0.15);\n",
              "      fill: #174EA6;\n",
              "    }\n",
              "\n",
              "    [theme=dark] .colab-df-convert {\n",
              "      background-color: #3B4455;\n",
              "      fill: #D2E3FC;\n",
              "    }\n",
              "\n",
              "    [theme=dark] .colab-df-convert:hover {\n",
              "      background-color: #434B5C;\n",
              "      box-shadow: 0px 1px 3px 1px rgba(0, 0, 0, 0.15);\n",
              "      filter: drop-shadow(0px 1px 2px rgba(0, 0, 0, 0.3));\n",
              "      fill: #FFFFFF;\n",
              "    }\n",
              "  </style>\n",
              "\n",
              "      <script>\n",
              "        const buttonEl =\n",
              "          document.querySelector('#df-2596f1e0-9031-4bda-a5a0-a51b6a642704 button.colab-df-convert');\n",
              "        buttonEl.style.display =\n",
              "          google.colab.kernel.accessAllowed ? 'block' : 'none';\n",
              "\n",
              "        async function convertToInteractive(key) {\n",
              "          const element = document.querySelector('#df-2596f1e0-9031-4bda-a5a0-a51b6a642704');\n",
              "          const dataTable =\n",
              "            await google.colab.kernel.invokeFunction('convertToInteractive',\n",
              "                                                     [key], {});\n",
              "          if (!dataTable) return;\n",
              "\n",
              "          const docLinkHtml = 'Like what you see? Visit the ' +\n",
              "            '<a target=\"_blank\" href=https://colab.research.google.com/notebooks/data_table.ipynb>data table notebook</a>'\n",
              "            + ' to learn more about interactive tables.';\n",
              "          element.innerHTML = '';\n",
              "          dataTable['output_type'] = 'display_data';\n",
              "          await google.colab.output.renderOutput(dataTable, element);\n",
              "          const docLink = document.createElement('div');\n",
              "          docLink.innerHTML = docLinkHtml;\n",
              "          element.appendChild(docLink);\n",
              "        }\n",
              "      </script>\n",
              "    </div>\n",
              "  </div>\n",
              "  "
            ]
          },
          "metadata": {},
          "execution_count": 77
        }
      ]
    },
    {
      "cell_type": "markdown",
      "source": [
        "### Kata yang paling besar kata (pada) /term frequency dalam dokumen ketiga,paling sering muncul kata tersebut, tetapi setelah ditransformasi kedalam  tf-idfs, kata tersebut relatif kecil nilai tf-idfnya. Perhatikan kemunculan kata tersebut di  (discriminatory information).\n",
        "\n",
        "##  $$\\text{idf} (t,d) = ln\\frac{1 + n_d}{1 + \\text{df}(d, t)}$$\n",
        "\n",
        "$ \\text{df}(d, t) =$  banyaknya dokumen yang mengandung term t    \n",
        "\n",
        "\n",
        "$ \\text n_d =  $ banyaknya dokumen  \n",
        "\n",
        "\n",
        "Persamaan tf-idf yang diimplementasikan dalam scikit-learn adalah:\n",
        "\n",
        "$$\\text{tf-idf}(t,d) = \\text{tf}(t,d) \\times (\\text{idf}(t,d)+1)$$\n",
        "\n",
        "\n",
        "$ \\text{tf}(t,d) $ banyak kemunculan term dalam suatu dokumen\n",
        "\n",
        "Kemudian dinormalisasi\n",
        "\n",
        "\n",
        "\n",
        "$$v_{\\text{norm}} = \\frac{v}{||v||^2} = \\frac{v}{\\sqrt{v_{1}^{2} + v_{2}^{2} + \\dots + v_{n}^{2}}} = \\frac{v}{\\big (\\sum_{i=1}^{n} v_{i}^{2}\\big)^\\frac{1}{2}}$$\n",
        "\n",
        "\n",
        "\n"
      ],
      "metadata": {
        "id": "IoNT67zYMdpY"
      }
    },
    {
      "cell_type": "code",
      "source": [
        "from sklearn.feature_extraction.text import TfidfTransformer\n",
        "tfidf = TfidfTransformer(use_idf=True,norm='l2',smooth_idf=True)\n",
        "tf=tfidf.fit_transform(vectorizer.fit_transform(dokumenstem)).toarray()"
      ],
      "metadata": {
        "id": "IdIU_bWO9ZNX"
      },
      "execution_count": 69,
      "outputs": []
    },
    {
      "cell_type": "code",
      "source": [
        "dfb =pd.DataFrame(data=tf,index=list(range(1, len(tf[:,1])+1, )),columns=[a])\n",
        "dfb"
      ],
      "metadata": {
        "colab": {
          "base_uri": "https://localhost:8080/",
          "height": 112
        },
        "id": "PdMVguZ29j9Q",
        "outputId": "65ba66f9-ca89-4ced-f76b-f839bbd606ec"
      },
      "execution_count": 70,
      "outputs": [
        {
          "output_type": "execute_result",
          "data": {
            "text/plain": [
              "       baik     jelek      kamu      saya      suka     sukan     tidak  \\\n",
              "1  0.543202  0.386492  0.271601  0.193246  0.543202  0.000000  0.000000   \n",
              "2  0.000000  0.379303  0.000000  0.379303  0.000000  0.533098  0.533098   \n",
              "\n",
              "       yang  \n",
              "1  0.386492  \n",
              "2  0.379303  "
            ],
            "text/html": [
              "\n",
              "  <div id=\"df-a4faf06c-7052-4a67-8aed-f5d1e33eb305\">\n",
              "    <div class=\"colab-df-container\">\n",
              "      <div>\n",
              "<style scoped>\n",
              "    .dataframe tbody tr th:only-of-type {\n",
              "        vertical-align: middle;\n",
              "    }\n",
              "\n",
              "    .dataframe tbody tr th {\n",
              "        vertical-align: top;\n",
              "    }\n",
              "\n",
              "    .dataframe thead tr th {\n",
              "        text-align: left;\n",
              "    }\n",
              "</style>\n",
              "<table border=\"1\" class=\"dataframe\">\n",
              "  <thead>\n",
              "    <tr>\n",
              "      <th></th>\n",
              "      <th>baik</th>\n",
              "      <th>jelek</th>\n",
              "      <th>kamu</th>\n",
              "      <th>saya</th>\n",
              "      <th>suka</th>\n",
              "      <th>sukan</th>\n",
              "      <th>tidak</th>\n",
              "      <th>yang</th>\n",
              "    </tr>\n",
              "  </thead>\n",
              "  <tbody>\n",
              "    <tr>\n",
              "      <th>1</th>\n",
              "      <td>0.543202</td>\n",
              "      <td>0.386492</td>\n",
              "      <td>0.271601</td>\n",
              "      <td>0.193246</td>\n",
              "      <td>0.543202</td>\n",
              "      <td>0.000000</td>\n",
              "      <td>0.000000</td>\n",
              "      <td>0.386492</td>\n",
              "    </tr>\n",
              "    <tr>\n",
              "      <th>2</th>\n",
              "      <td>0.000000</td>\n",
              "      <td>0.379303</td>\n",
              "      <td>0.000000</td>\n",
              "      <td>0.379303</td>\n",
              "      <td>0.000000</td>\n",
              "      <td>0.533098</td>\n",
              "      <td>0.533098</td>\n",
              "      <td>0.379303</td>\n",
              "    </tr>\n",
              "  </tbody>\n",
              "</table>\n",
              "</div>\n",
              "      <button class=\"colab-df-convert\" onclick=\"convertToInteractive('df-a4faf06c-7052-4a67-8aed-f5d1e33eb305')\"\n",
              "              title=\"Convert this dataframe to an interactive table.\"\n",
              "              style=\"display:none;\">\n",
              "        \n",
              "  <svg xmlns=\"http://www.w3.org/2000/svg\" height=\"24px\"viewBox=\"0 0 24 24\"\n",
              "       width=\"24px\">\n",
              "    <path d=\"M0 0h24v24H0V0z\" fill=\"none\"/>\n",
              "    <path d=\"M18.56 5.44l.94 2.06.94-2.06 2.06-.94-2.06-.94-.94-2.06-.94 2.06-2.06.94zm-11 1L8.5 8.5l.94-2.06 2.06-.94-2.06-.94L8.5 2.5l-.94 2.06-2.06.94zm10 10l.94 2.06.94-2.06 2.06-.94-2.06-.94-.94-2.06-.94 2.06-2.06.94z\"/><path d=\"M17.41 7.96l-1.37-1.37c-.4-.4-.92-.59-1.43-.59-.52 0-1.04.2-1.43.59L10.3 9.45l-7.72 7.72c-.78.78-.78 2.05 0 2.83L4 21.41c.39.39.9.59 1.41.59.51 0 1.02-.2 1.41-.59l7.78-7.78 2.81-2.81c.8-.78.8-2.07 0-2.86zM5.41 20L4 18.59l7.72-7.72 1.47 1.35L5.41 20z\"/>\n",
              "  </svg>\n",
              "      </button>\n",
              "      \n",
              "  <style>\n",
              "    .colab-df-container {\n",
              "      display:flex;\n",
              "      flex-wrap:wrap;\n",
              "      gap: 12px;\n",
              "    }\n",
              "\n",
              "    .colab-df-convert {\n",
              "      background-color: #E8F0FE;\n",
              "      border: none;\n",
              "      border-radius: 50%;\n",
              "      cursor: pointer;\n",
              "      display: none;\n",
              "      fill: #1967D2;\n",
              "      height: 32px;\n",
              "      padding: 0 0 0 0;\n",
              "      width: 32px;\n",
              "    }\n",
              "\n",
              "    .colab-df-convert:hover {\n",
              "      background-color: #E2EBFA;\n",
              "      box-shadow: 0px 1px 2px rgba(60, 64, 67, 0.3), 0px 1px 3px 1px rgba(60, 64, 67, 0.15);\n",
              "      fill: #174EA6;\n",
              "    }\n",
              "\n",
              "    [theme=dark] .colab-df-convert {\n",
              "      background-color: #3B4455;\n",
              "      fill: #D2E3FC;\n",
              "    }\n",
              "\n",
              "    [theme=dark] .colab-df-convert:hover {\n",
              "      background-color: #434B5C;\n",
              "      box-shadow: 0px 1px 3px 1px rgba(0, 0, 0, 0.15);\n",
              "      filter: drop-shadow(0px 1px 2px rgba(0, 0, 0, 0.3));\n",
              "      fill: #FFFFFF;\n",
              "    }\n",
              "  </style>\n",
              "\n",
              "      <script>\n",
              "        const buttonEl =\n",
              "          document.querySelector('#df-a4faf06c-7052-4a67-8aed-f5d1e33eb305 button.colab-df-convert');\n",
              "        buttonEl.style.display =\n",
              "          google.colab.kernel.accessAllowed ? 'block' : 'none';\n",
              "\n",
              "        async function convertToInteractive(key) {\n",
              "          const element = document.querySelector('#df-a4faf06c-7052-4a67-8aed-f5d1e33eb305');\n",
              "          const dataTable =\n",
              "            await google.colab.kernel.invokeFunction('convertToInteractive',\n",
              "                                                     [key], {});\n",
              "          if (!dataTable) return;\n",
              "\n",
              "          const docLinkHtml = 'Like what you see? Visit the ' +\n",
              "            '<a target=\"_blank\" href=https://colab.research.google.com/notebooks/data_table.ipynb>data table notebook</a>'\n",
              "            + ' to learn more about interactive tables.';\n",
              "          element.innerHTML = '';\n",
              "          dataTable['output_type'] = 'display_data';\n",
              "          await google.colab.output.renderOutput(dataTable, element);\n",
              "          const docLink = document.createElement('div');\n",
              "          docLink.innerHTML = docLinkHtml;\n",
              "          element.appendChild(docLink);\n",
              "        }\n",
              "      </script>\n",
              "    </div>\n",
              "  </div>\n",
              "  "
            ]
          },
          "metadata": {},
          "execution_count": 70
        }
      ]
    },
    {
      "cell_type": "markdown",
      "source": [
        ""
      ],
      "metadata": {
        "id": "wYHJxuZjM6Nk"
      }
    },
    {
      "cell_type": "markdown",
      "source": [
        ""
      ],
      "metadata": {
        "id": "aTwHz4pFM6cU"
      }
    },
    {
      "cell_type": "markdown",
      "source": [
        ""
      ],
      "metadata": {
        "id": "xdnLXyW3M6m1"
      }
    },
    {
      "cell_type": "markdown",
      "source": [
        ""
      ],
      "metadata": {
        "id": "Ab_QTPLDM6wn"
      }
    },
    {
      "cell_type": "markdown",
      "source": [
        ""
      ],
      "metadata": {
        "id": "mrn2ZOTnM68C"
      }
    },
    {
      "cell_type": "code",
      "source": [
        "from sklearn.feature_extraction.text import CountVectorizer\n",
        "from sklearn.feature_extraction.text import TfidfVectorizer\n",
        "from collections import Counter\n",
        "corpus = [\n",
        "     'This is the first document.',\n",
        "     'This document is the second document.',\n",
        "     'And this is the third one.',\n",
        "     'Is this the first document?',\n",
        " ]\n",
        "print(corpus)\n",
        "vectorizer = CountVectorizer()\n",
        "X = vectorizer.fit_transform(corpus)\n",
        "print(vectorizer.get_feature_names())\n",
        "\n",
        "z=X.toarray()\n",
        "#term frequency is printed\n",
        "print(z)\n",
        "\n",
        "vectorizer1 = TfidfVectorizer(min_df=1)\n",
        "X1 = vectorizer1.fit_transform(corpus)\n",
        "idf = vectorizer1.idf_\n",
        "print (dict(zip(vectorizer1.get_feature_names(), idf)))\n",
        "#printing idf\n",
        "print(X1.toarray())\n",
        "#printing tfidf"
      ],
      "metadata": {
        "colab": {
          "base_uri": "https://localhost:8080/"
        },
        "id": "ukN9I_XoF_4p",
        "outputId": "175ede22-1db9-4bc6-d04a-fa55d1a8dd32"
      },
      "execution_count": 71,
      "outputs": [
        {
          "output_type": "stream",
          "name": "stdout",
          "text": [
            "['This is the first document.', 'This document is the second document.', 'And this is the third one.', 'Is this the first document?']\n",
            "['and', 'document', 'first', 'is', 'one', 'second', 'the', 'third', 'this']\n",
            "[[0 1 1 1 0 0 1 0 1]\n",
            " [0 2 0 1 0 1 1 0 1]\n",
            " [1 0 0 1 1 0 1 1 1]\n",
            " [0 1 1 1 0 0 1 0 1]]\n",
            "{'and': 1.916290731874155, 'document': 1.2231435513142097, 'first': 1.5108256237659907, 'is': 1.0, 'one': 1.916290731874155, 'second': 1.916290731874155, 'the': 1.0, 'third': 1.916290731874155, 'this': 1.0}\n",
            "[[0.         0.46979139 0.58028582 0.38408524 0.         0.\n",
            "  0.38408524 0.         0.38408524]\n",
            " [0.         0.6876236  0.         0.28108867 0.         0.53864762\n",
            "  0.28108867 0.         0.28108867]\n",
            " [0.51184851 0.         0.         0.26710379 0.51184851 0.\n",
            "  0.26710379 0.51184851 0.26710379]\n",
            " [0.         0.46979139 0.58028582 0.38408524 0.         0.\n",
            "  0.38408524 0.         0.38408524]]\n"
          ]
        },
        {
          "output_type": "stream",
          "name": "stderr",
          "text": [
            "FutureWarning: Function get_feature_names is deprecated; get_feature_names is deprecated in 1.0 and will be removed in 1.2. Please use get_feature_names_out instead. [deprecation.py:87]\n",
            "FutureWarning: Function get_feature_names is deprecated; get_feature_names is deprecated in 1.0 and will be removed in 1.2. Please use get_feature_names_out instead. [deprecation.py:87]\n"
          ]
        }
      ]
    }
  ]
}