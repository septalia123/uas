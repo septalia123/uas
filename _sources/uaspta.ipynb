{
 "cells": [
  {
   "cell_type": "markdown",
   "id": "e90adbcb",
   "metadata": {},
   "source": [
    "# TOPIK MODELLING"
   ]
  },
  {
   "cell_type": "markdown",
   "id": "67d3a1b2",
   "metadata": {},
   "source": [
    "Topik Modelling adalah pendekatan yang digunakan untuk menganalisis sekumpulan dokumen yang berbentuk teks yang kemudian dikelompokkan menjadi beberapa topik. Proses topik modelling dapat dilakukan dengan tahapan-tahapan sebagai berikut:\n",
    "1. Crawling Data\n",
    "2. Pre-Processing Data\n",
    "   - Cleansing Data\n",
    "   - Stopword\n",
    "3. Modelling (LSA)"
   ]
  },
  {
   "cell_type": "markdown",
   "id": "cd0a4a42",
   "metadata": {},
   "source": [
    "# 1. Crawling Data Berita"
   ]
  },
  {
   "cell_type": "markdown",
   "id": "babbc44a",
   "metadata": {},
   "source": [
    "Crawling data adalah proses pengambilan data secara online untuk sebuah kebutuhan umum. Proses yang dilakukan yaitu mengimport suatu informasi atau sebuah data yang telah di ambil ke dalam file lokal pada komputer. Crawling data dilakukan untuk mengekstraksi data yang mengacu pengumpulan data dari worldwide web, dokumen-dokumen, file, dan lainnya. "
   ]
  },
  {
   "cell_type": "markdown",
   "id": "eb9103e4",
   "metadata": {},
   "source": [
    "Berikut adalah code untuk proses Crawling data website berita menggunakan Scrapy. Website berita yang di crawling adalah https://ekbis.sindonews.com/, data yang di ambil adalah data Judul, Waktu, Category berita, dan Deskripsi berita."
   ]
  },
  {
   "cell_type": "markdown",
   "id": "85f4168d",
   "metadata": {},
   "source": [
    "import scrapy\n",
    "\n",
    "\n",
    "class QuotesSpider(scrapy.Spider):\n",
    "    name = \"quotes\"\n",
    "\n",
    "    def start_requests(self):\n",
    "        urls = [\n",
    "            'https://pta.trunojoyo.ac.id/welcome/detail/080211100070',\n",
    "            'https://pta.trunojoyo.ac.id/welcome/detail/080111100002',\n",
    "            'https://pta.trunojoyo.ac.id/welcome/detail/080211100050',\n",
    "            'https://pta.trunojoyo.ac.id/welcome/detail/090111100077',\n",
    "            'https://pta.trunojoyo.ac.id/welcome/detail/070111100093',\n",
    "            'https://pta.trunojoyo.ac.id/welcome/detail/080111100029',\n",
    "            'https://pta.trunojoyo.ac.id/welcome/detail/080111100011',\n",
    "            'https://pta.trunojoyo.ac.id/welcome/detail/080111100023',\n",
    "            'https://pta.trunojoyo.ac.id/welcome/detail/080111100007',\n",
    "            'https://pta.trunojoyo.ac.id/welcome/detail/080111100047',\n",
    "            'https://pta.trunojoyo.ac.id/welcome/detail/080111100082',\n",
    "            'https://pta.trunojoyo.ac.id/welcome/detail/080111100054',\n",
    "            'https://pta.trunojoyo.ac.id/welcome/detail/090111100053',\n",
    "            'https://pta.trunojoyo.ac.id/welcome/detail/090111100003',\n",
    "            'https://pta.trunojoyo.ac.id/welcome/detail/090111100068',\n",
    "            'https://pta.trunojoyo.ac.id/welcome/detail/080111100010',\n",
    "            'https://pta.trunojoyo.ac.id/welcome/detail/080111100031',\n",
    "            'https://pta.trunojoyo.ac.id/welcome/detail/080111100084',\n",
    "            'https://pta.trunojoyo.ac.id/welcome/detail/050111100448'\n",
    "        ]\n",
    "        for url in urls:\n",
    "            yield scrapy.Request(url=url, callback=self.parse)\n",
    "\n",
    "    def parse(self, response):\n",
    "        # print(response.url)\n",
    "        yield {\n",
    "            'judul': response.css('#content_journal > ul > li > div:nth-child(2) > a::text').extract(),\n",
    "            'penulis': response.css('#content_journal > ul > li > div:nth-child(2) > div:nth-child(2) > span::text').extract(),\n",
    "            'dosen_pembimbing_1': response.css('#content_journal > ul > li > div:nth-child(2) > div:nth-child(3) > span::text').extract(),\n",
    "            'dosen_pembimbing_2': response.css('#content_journal > ul > li > div:nth-child(2) > div:nth-child(4) > span::text').extract(),\n",
    "            'abstrak': response.css('#content_journal > ul > li > div:nth-child(4) > div:nth-child(2) > p::text').extract(),\n",
    "        }\n",
    "        # content_journal > ul > li:nth-child(1) > div:nth-child(1) > a\n",
    "        # content_journal > ul > li:nth-child(1) > div:nth-child(1) > a\n"
   ]
  },
  {
   "cell_type": "markdown",
   "id": "55cefd21",
   "metadata": {},
   "source": [
    "# 2. Pre-Processing Data"
   ]
  },
  {
   "cell_type": "markdown",
   "id": "97594283",
   "metadata": {},
   "source": [
    "Pre-Processing Data merupakan suatu proses mengubah data mentah menjadi bentuk data yang lebih mudah dipahami. Proses dilakukan untuk membersihkan data dari angka, tanda baca, whitespace, dan kata yang tidak penting untuk digunakan. Tahapan dalam pre-processing data yaitu:"
   ]
  },
  {
   "cell_type": "markdown",
   "id": "efcb9748",
   "metadata": {},
   "source": [
    "## Cleansing Data\n"
   ]
  },
  {
   "cell_type": "markdown",
   "id": "b833c737",
   "metadata": {},
   "source": [
    "Cleaning data atau membersihkan data artinya mengeksekusi ulang data yang telah di peroleh, seperti menghapus atau menghilangkan data-data yang tidak lengkap, tidak relavan, dan tidak akurat. Langkah pertama yang dilakukan untuk membulai proses pre-processing data adalah dengan mengimport modul-module yang diperlukan untuk proses pre-processing."
   ]
  },
  {
   "cell_type": "markdown",
   "id": "4cef248a",
   "metadata": {},
   "source": [
    "###  1. Import Module"
   ]
  },
  {
   "cell_type": "code",
   "execution_count": 86,
   "id": "21ca5307",
   "metadata": {},
   "outputs": [],
   "source": [
    "# data visualisation and manipulation\n",
    "import numpy as np\n",
    "import pandas as pd\n",
    "import matplotlib.pyplot as plt\n",
    "from matplotlib import style\n",
    "import seaborn as sns\n",
    "#configure\n",
    "# sets matplotlib to inline and displays graphs below the corressponding cell.\n",
    "%matplotlib inline  \n",
    "style.use('fivethirtyeight')\n",
    "sns.set(style='whitegrid',color_codes=True)\n",
    "\n",
    "#import nltk\n",
    "import nltk\n",
    "from nltk.corpus import stopwords\n",
    "from nltk.tokenize import word_tokenize,sent_tokenize\n",
    "\n",
    "#preprocessing\n",
    "from nltk.corpus import stopwords  #stopwords\n",
    "from nltk import word_tokenize,sent_tokenize # tokenizing\n",
    "from nltk.stem import PorterStemmer,LancasterStemmer  # using the Porter Stemmer and Lancaster Stemmer and others\n",
    "from nltk.stem.snowball import SnowballStemmer\n",
    "from nltk.stem import WordNetLemmatizer  # lammatizer from WordNet\n",
    "\n",
    "# for named entity recognition (NER)\n",
    "from nltk import ne_chunk\n",
    "\n",
    "# vectorizers for creating the document-term-matrix (DTM)\n",
    "from sklearn.feature_extraction.text import TfidfVectorizer,CountVectorizer\n",
    "\n",
    "#stop-words\n",
    "stop_words=set(nltk.corpus.stopwords.words('indonesian'))"
   ]
  },
  {
   "cell_type": "markdown",
   "id": "9fcaa015",
   "metadata": {},
   "source": [
    "### 2. Load Dataset"
   ]
  },
  {
   "cell_type": "markdown",
   "id": "a10fe96d",
   "metadata": {},
   "source": [
    "setelah proses import module yang digunakan, langkah kedua pada proses cleaning data adalah Load Data. Load Data adalah proses membuka/membaca file dari data yang akan digunakan untuk proses Pre-Processing, data yang digunakan biasanya berbentuk file csv, json dan lainnya. disini saya menggunakan format file csv."
   ]
  },
  {
   "cell_type": "code",
   "execution_count": 87,
   "id": "34367253",
   "metadata": {},
   "outputs": [],
   "source": [
    "df=pd.read_csv('pta2.csv')"
   ]
  },
  {
   "cell_type": "code",
   "execution_count": 88,
   "id": "bc960a0e",
   "metadata": {},
   "outputs": [
    {
     "data": {
      "text/html": [
       "<div>\n",
       "<style scoped>\n",
       "    .dataframe tbody tr th:only-of-type {\n",
       "        vertical-align: middle;\n",
       "    }\n",
       "\n",
       "    .dataframe tbody tr th {\n",
       "        vertical-align: top;\n",
       "    }\n",
       "\n",
       "    .dataframe thead th {\n",
       "        text-align: right;\n",
       "    }\n",
       "</style>\n",
       "<table border=\"1\" class=\"dataframe\">\n",
       "  <thead>\n",
       "    <tr style=\"text-align: right;\">\n",
       "      <th></th>\n",
       "      <th>judul</th>\n",
       "      <th>penulis</th>\n",
       "      <th>abstrak</th>\n",
       "    </tr>\n",
       "  </thead>\n",
       "  <tbody>\n",
       "    <tr>\n",
       "      <th>0</th>\n",
       "      <td>PERLINDUNGAN HUKUM BAGI KONSUMEN ATAS PRODUK E...</td>\n",
       "      <td>Penulis : TOMMY ADITYA PARLINDUNGAN MARBUN</td>\n",
       "      <td>\\r\\nProduk elektronik adalah suatu benda berge...</td>\n",
       "    </tr>\n",
       "    <tr>\n",
       "      <th>1</th>\n",
       "      <td>Pertanggungjawaban Pidana Direksi BUMN (Perser...</td>\n",
       "      <td>Penulis : Maulina Nurlaily</td>\n",
       "      <td>Badan Usaha Milik Negara (BUMN) adalah Badan u...</td>\n",
       "    </tr>\n",
       "    <tr>\n",
       "      <th>2</th>\n",
       "      <td>TELAAH KRITIS TENTANG\\r\\nPEMBERITAAN MEDIA MAS...</td>\n",
       "      <td>Penulis : Andri Eka Sugiarto</td>\n",
       "      <td>ABSTRAK\\r\\n\\r\\nJaminan akan kemerdekaan dan ke...</td>\n",
       "    </tr>\n",
       "    <tr>\n",
       "      <th>3</th>\n",
       "      <td>PELAKSANAAN PENDAFTARAN TANAH UNTUK PERTAMA KA...</td>\n",
       "      <td>Penulis : Agung Saiful Anam</td>\n",
       "      <td>ABSTRAK\\r\\n\\r\\nPendaftaran tanah untuk pertama...</td>\n",
       "    </tr>\n",
       "    <tr>\n",
       "      <th>4</th>\n",
       "      <td>TRANSAKSI JUAL BELI MELALUI INTERNET PERSPEKTI...</td>\n",
       "      <td>Penulis : Adityo Nugroho</td>\n",
       "      <td>\\r\\nABSTRAK\\r\\n\\r\\n\\tSalah satu bentuk kemajua...</td>\n",
       "    </tr>\n",
       "  </tbody>\n",
       "</table>\n",
       "</div>"
      ],
      "text/plain": [
       "                                               judul  \\\n",
       "0  PERLINDUNGAN HUKUM BAGI KONSUMEN ATAS PRODUK E...   \n",
       "1  Pertanggungjawaban Pidana Direksi BUMN (Perser...   \n",
       "2  TELAAH KRITIS TENTANG\\r\\nPEMBERITAAN MEDIA MAS...   \n",
       "3  PELAKSANAAN PENDAFTARAN TANAH UNTUK PERTAMA KA...   \n",
       "4  TRANSAKSI JUAL BELI MELALUI INTERNET PERSPEKTI...   \n",
       "\n",
       "                                      penulis  \\\n",
       "0  Penulis : TOMMY ADITYA PARLINDUNGAN MARBUN   \n",
       "1                  Penulis : Maulina Nurlaily   \n",
       "2                Penulis : Andri Eka Sugiarto   \n",
       "3                 Penulis : Agung Saiful Anam   \n",
       "4                    Penulis : Adityo Nugroho   \n",
       "\n",
       "                                             abstrak  \n",
       "0  \\r\\nProduk elektronik adalah suatu benda berge...  \n",
       "1  Badan Usaha Milik Negara (BUMN) adalah Badan u...  \n",
       "2  ABSTRAK\\r\\n\\r\\nJaminan akan kemerdekaan dan ke...  \n",
       "3  ABSTRAK\\r\\n\\r\\nPendaftaran tanah untuk pertama...  \n",
       "4  \\r\\nABSTRAK\\r\\n\\r\\n\\tSalah satu bentuk kemajua...  "
      ]
     },
     "execution_count": 88,
     "metadata": {},
     "output_type": "execute_result"
    }
   ],
   "source": [
    "df.head()"
   ]
  },
  {
   "cell_type": "markdown",
   "id": "c42a0646",
   "metadata": {},
   "source": [
    "df.head() adalah proses untuk menampilkan data awal/teratas yang terdapat a pada file. Jika pada df.head() tidak diberikan parameter angka, hasil yang akan ditampilkan adalah 5 data teratas yang ada pada file."
   ]
  },
  {
   "cell_type": "markdown",
   "id": "ce495423",
   "metadata": {},
   "source": [
    "### 3. Drop data yang tidak diperlukan"
   ]
  },
  {
   "cell_type": "markdown",
   "id": "a5624a23",
   "metadata": {},
   "source": [
    "Drop data adalah proses penghapusan data pada tabel data yang tidak diperlukan dalam proses pre-processing data. Pada tahap ini data yang dihapus adalah data yang ada pada tabel judul, waktu, dan category karena data yang akan digunakan adalah data yang ada pada tabel isi."
   ]
  },
  {
   "cell_type": "code",
   "execution_count": 89,
   "id": "07038081",
   "metadata": {},
   "outputs": [],
   "source": [
    "# drop the publish date.\n",
    "df.drop(['judul','penulis'],axis=1, inplace=True)"
   ]
  },
  {
   "cell_type": "markdown",
   "id": "76921aae",
   "metadata": {},
   "source": [
    "tahap setelah penghapusan data yaitu menampilkan hasil data yang telah di proses dengan menggunakan df.head(). pada bagian ini terdapat nilai 30 sebagai parameter dari data yang akan ditampilkan, ini berarti banyaknya data yang akan di tampilkan adalah 30 data dimulai dari hitungan index ke 0."
   ]
  },
  {
   "cell_type": "code",
   "execution_count": 90,
   "id": "e009f844",
   "metadata": {},
   "outputs": [
    {
     "data": {
      "text/html": [
       "<div>\n",
       "<style scoped>\n",
       "    .dataframe tbody tr th:only-of-type {\n",
       "        vertical-align: middle;\n",
       "    }\n",
       "\n",
       "    .dataframe tbody tr th {\n",
       "        vertical-align: top;\n",
       "    }\n",
       "\n",
       "    .dataframe thead th {\n",
       "        text-align: right;\n",
       "    }\n",
       "</style>\n",
       "<table border=\"1\" class=\"dataframe\">\n",
       "  <thead>\n",
       "    <tr style=\"text-align: right;\">\n",
       "      <th></th>\n",
       "      <th>abstrak</th>\n",
       "    </tr>\n",
       "  </thead>\n",
       "  <tbody>\n",
       "    <tr>\n",
       "      <th>0</th>\n",
       "      <td>\\r\\nProduk elektronik adalah suatu benda berge...</td>\n",
       "    </tr>\n",
       "    <tr>\n",
       "      <th>1</th>\n",
       "      <td>Badan Usaha Milik Negara (BUMN) adalah Badan u...</td>\n",
       "    </tr>\n",
       "    <tr>\n",
       "      <th>2</th>\n",
       "      <td>ABSTRAK\\r\\n\\r\\nJaminan akan kemerdekaan dan ke...</td>\n",
       "    </tr>\n",
       "    <tr>\n",
       "      <th>3</th>\n",
       "      <td>ABSTRAK\\r\\n\\r\\nPendaftaran tanah untuk pertama...</td>\n",
       "    </tr>\n",
       "    <tr>\n",
       "      <th>4</th>\n",
       "      <td>\\r\\nABSTRAK\\r\\n\\r\\n\\tSalah satu bentuk kemajua...</td>\n",
       "    </tr>\n",
       "    <tr>\n",
       "      <th>5</th>\n",
       "      <td>ABSTRAK\\r\\nPelaksanaan perlindungan terhadap T...</td>\n",
       "    </tr>\n",
       "    <tr>\n",
       "      <th>6</th>\n",
       "      <td>ABSTRAK\\r\\n\\r\\nPerbedaan aliran yaitu antara a...</td>\n",
       "    </tr>\n",
       "    <tr>\n",
       "      <th>7</th>\n",
       "      <td>ABSTRAK\\r\\nPasal 24C Ayat (1) Undang Undang Da...</td>\n",
       "    </tr>\n",
       "    <tr>\n",
       "      <th>8</th>\n",
       "      <td>ABSTRAK\\r\\n\\r\\nUndang-undang No 12 tahun 2011 ...</td>\n",
       "    </tr>\n",
       "    <tr>\n",
       "      <th>9</th>\n",
       "      <td>Oli bekas kapal merupakan oli sisa yang dihasi...</td>\n",
       "    </tr>\n",
       "    <tr>\n",
       "      <th>10</th>\n",
       "      <td>Undang-Undang tentang Penghapusan Kekerasan Da...</td>\n",
       "    </tr>\n",
       "    <tr>\n",
       "      <th>11</th>\n",
       "      <td>ABSTRAK\\r\\n\\r\\nPelaksanaan terhadap kebijakan ...</td>\n",
       "    </tr>\n",
       "    <tr>\n",
       "      <th>12</th>\n",
       "      <td>ABSTRAK\\r\\n\\tPerkembangan teknologi informasi ...</td>\n",
       "    </tr>\n",
       "    <tr>\n",
       "      <th>13</th>\n",
       "      <td>Pers memaknai segala kegiatan jurnalistiknya m...</td>\n",
       "    </tr>\n",
       "    <tr>\n",
       "      <th>14</th>\n",
       "      <td>Tindak pidana narkotika merupakan tindak kejah...</td>\n",
       "    </tr>\n",
       "    <tr>\n",
       "      <th>15</th>\n",
       "      <td>Penelitian ini dilatarbelakangi oleh keinginta...</td>\n",
       "    </tr>\n",
       "    <tr>\n",
       "      <th>16</th>\n",
       "      <td>Peradilan in absentia adalah konsep di mana te...</td>\n",
       "    </tr>\n",
       "  </tbody>\n",
       "</table>\n",
       "</div>"
      ],
      "text/plain": [
       "                                              abstrak\n",
       "0   \\r\\nProduk elektronik adalah suatu benda berge...\n",
       "1   Badan Usaha Milik Negara (BUMN) adalah Badan u...\n",
       "2   ABSTRAK\\r\\n\\r\\nJaminan akan kemerdekaan dan ke...\n",
       "3   ABSTRAK\\r\\n\\r\\nPendaftaran tanah untuk pertama...\n",
       "4   \\r\\nABSTRAK\\r\\n\\r\\n\\tSalah satu bentuk kemajua...\n",
       "5   ABSTRAK\\r\\nPelaksanaan perlindungan terhadap T...\n",
       "6   ABSTRAK\\r\\n\\r\\nPerbedaan aliran yaitu antara a...\n",
       "7   ABSTRAK\\r\\nPasal 24C Ayat (1) Undang Undang Da...\n",
       "8   ABSTRAK\\r\\n\\r\\nUndang-undang No 12 tahun 2011 ...\n",
       "9   Oli bekas kapal merupakan oli sisa yang dihasi...\n",
       "10  Undang-Undang tentang Penghapusan Kekerasan Da...\n",
       "11  ABSTRAK\\r\\n\\r\\nPelaksanaan terhadap kebijakan ...\n",
       "12  ABSTRAK\\r\\n\\tPerkembangan teknologi informasi ...\n",
       "13  Pers memaknai segala kegiatan jurnalistiknya m...\n",
       "14  Tindak pidana narkotika merupakan tindak kejah...\n",
       "15  Penelitian ini dilatarbelakangi oleh keinginta...\n",
       "16  Peradilan in absentia adalah konsep di mana te..."
      ]
     },
     "execution_count": 90,
     "metadata": {},
     "output_type": "execute_result"
    }
   ],
   "source": [
    "df.head(20)"
   ]
  },
  {
   "cell_type": "markdown",
   "id": "29c75adf",
   "metadata": {},
   "source": [
    "\n",
    "\n",
    "### 4. Clean Data & Processing Data"
   ]
  },
  {
   "cell_type": "markdown",
   "id": "a9c09935",
   "metadata": {},
   "source": [
    "\n",
    "Proses ini adalah proses untuk membersihkan data dari angka-angka"
   ]
  },
  {
   "cell_type": "code",
   "execution_count": 91,
   "id": "5fc53e29",
   "metadata": {},
   "outputs": [
    {
     "data": {
      "text/html": [
       "<div>\n",
       "<style scoped>\n",
       "    .dataframe tbody tr th:only-of-type {\n",
       "        vertical-align: middle;\n",
       "    }\n",
       "\n",
       "    .dataframe tbody tr th {\n",
       "        vertical-align: top;\n",
       "    }\n",
       "\n",
       "    .dataframe thead th {\n",
       "        text-align: right;\n",
       "    }\n",
       "</style>\n",
       "<table border=\"1\" class=\"dataframe\">\n",
       "  <thead>\n",
       "    <tr style=\"text-align: right;\">\n",
       "      <th></th>\n",
       "      <th>abstrak</th>\n",
       "      <th>hapus angka</th>\n",
       "    </tr>\n",
       "  </thead>\n",
       "  <tbody>\n",
       "    <tr>\n",
       "      <th>0</th>\n",
       "      <td>\\r\\nProduk elektronik adalah suatu benda berge...</td>\n",
       "      <td>\\r\\nProduk elektronik adalah suatu benda berge...</td>\n",
       "    </tr>\n",
       "    <tr>\n",
       "      <th>1</th>\n",
       "      <td>Badan Usaha Milik Negara (BUMN) adalah Badan u...</td>\n",
       "      <td>Badan Usaha Milik Negara (BUMN) adalah Badan u...</td>\n",
       "    </tr>\n",
       "    <tr>\n",
       "      <th>2</th>\n",
       "      <td>ABSTRAK\\r\\n\\r\\nJaminan akan kemerdekaan dan ke...</td>\n",
       "      <td>ABSTRAK\\r\\n\\r\\nJaminan akan kemerdekaan dan ke...</td>\n",
       "    </tr>\n",
       "    <tr>\n",
       "      <th>3</th>\n",
       "      <td>ABSTRAK\\r\\n\\r\\nPendaftaran tanah untuk pertama...</td>\n",
       "      <td>ABSTRAK\\r\\n\\r\\nPendaftaran tanah untuk pertama...</td>\n",
       "    </tr>\n",
       "    <tr>\n",
       "      <th>4</th>\n",
       "      <td>\\r\\nABSTRAK\\r\\n\\r\\n\\tSalah satu bentuk kemajua...</td>\n",
       "      <td>\\r\\nABSTRAK\\r\\n\\r\\n\\tSalah satu bentuk kemajua...</td>\n",
       "    </tr>\n",
       "    <tr>\n",
       "      <th>5</th>\n",
       "      <td>ABSTRAK\\r\\nPelaksanaan perlindungan terhadap T...</td>\n",
       "      <td>ABSTRAK\\r\\nPelaksanaan perlindungan terhadap T...</td>\n",
       "    </tr>\n",
       "    <tr>\n",
       "      <th>6</th>\n",
       "      <td>ABSTRAK\\r\\n\\r\\nPerbedaan aliran yaitu antara a...</td>\n",
       "      <td>ABSTRAK\\r\\n\\r\\nPerbedaan aliran yaitu antara a...</td>\n",
       "    </tr>\n",
       "    <tr>\n",
       "      <th>7</th>\n",
       "      <td>ABSTRAK\\r\\nPasal 24C Ayat (1) Undang Undang Da...</td>\n",
       "      <td>ABSTRAK\\r\\nPasal C Ayat () Undang Undang Dasar...</td>\n",
       "    </tr>\n",
       "    <tr>\n",
       "      <th>8</th>\n",
       "      <td>ABSTRAK\\r\\n\\r\\nUndang-undang No 12 tahun 2011 ...</td>\n",
       "      <td>ABSTRAK\\r\\n\\r\\nUndang-undang No  tahun  tentan...</td>\n",
       "    </tr>\n",
       "    <tr>\n",
       "      <th>9</th>\n",
       "      <td>Oli bekas kapal merupakan oli sisa yang dihasi...</td>\n",
       "      <td>Oli bekas kapal merupakan oli sisa yang dihasi...</td>\n",
       "    </tr>\n",
       "  </tbody>\n",
       "</table>\n",
       "</div>"
      ],
      "text/plain": [
       "                                             abstrak  \\\n",
       "0  \\r\\nProduk elektronik adalah suatu benda berge...   \n",
       "1  Badan Usaha Milik Negara (BUMN) adalah Badan u...   \n",
       "2  ABSTRAK\\r\\n\\r\\nJaminan akan kemerdekaan dan ke...   \n",
       "3  ABSTRAK\\r\\n\\r\\nPendaftaran tanah untuk pertama...   \n",
       "4  \\r\\nABSTRAK\\r\\n\\r\\n\\tSalah satu bentuk kemajua...   \n",
       "5  ABSTRAK\\r\\nPelaksanaan perlindungan terhadap T...   \n",
       "6  ABSTRAK\\r\\n\\r\\nPerbedaan aliran yaitu antara a...   \n",
       "7  ABSTRAK\\r\\nPasal 24C Ayat (1) Undang Undang Da...   \n",
       "8  ABSTRAK\\r\\n\\r\\nUndang-undang No 12 tahun 2011 ...   \n",
       "9  Oli bekas kapal merupakan oli sisa yang dihasi...   \n",
       "\n",
       "                                         hapus angka  \n",
       "0  \\r\\nProduk elektronik adalah suatu benda berge...  \n",
       "1  Badan Usaha Milik Negara (BUMN) adalah Badan u...  \n",
       "2  ABSTRAK\\r\\n\\r\\nJaminan akan kemerdekaan dan ke...  \n",
       "3  ABSTRAK\\r\\n\\r\\nPendaftaran tanah untuk pertama...  \n",
       "4  \\r\\nABSTRAK\\r\\n\\r\\n\\tSalah satu bentuk kemajua...  \n",
       "5  ABSTRAK\\r\\nPelaksanaan perlindungan terhadap T...  \n",
       "6  ABSTRAK\\r\\n\\r\\nPerbedaan aliran yaitu antara a...  \n",
       "7  ABSTRAK\\r\\nPasal C Ayat () Undang Undang Dasar...  \n",
       "8  ABSTRAK\\r\\n\\r\\nUndang-undang No  tahun  tentan...  \n",
       "9  Oli bekas kapal merupakan oli sisa yang dihasi...  "
      ]
     },
     "execution_count": 91,
     "metadata": {},
     "output_type": "execute_result"
    }
   ],
   "source": [
    "import string \n",
    "import re #regex library\n",
    "\n",
    "# import word_tokenize & FreqDist from NLTK\n",
    "from nltk.tokenize import word_tokenize \n",
    "from nltk.probability import FreqDist\n",
    "\n",
    "#remove number\n",
    "def remove_number(text):\n",
    "    return  re.sub(r\"\\d+\", \"\", text)\n",
    "\n",
    "df['hapus angka'] = df['abstrak'].apply(remove_number)\n",
    "df.head(10)"
   ]
  },
  {
   "cell_type": "code",
   "execution_count": 92,
   "id": "787f7e12",
   "metadata": {},
   "outputs": [
    {
     "data": {
      "text/html": [
       "<div>\n",
       "<style scoped>\n",
       "    .dataframe tbody tr th:only-of-type {\n",
       "        vertical-align: middle;\n",
       "    }\n",
       "\n",
       "    .dataframe tbody tr th {\n",
       "        vertical-align: top;\n",
       "    }\n",
       "\n",
       "    .dataframe thead th {\n",
       "        text-align: right;\n",
       "    }\n",
       "</style>\n",
       "<table border=\"1\" class=\"dataframe\">\n",
       "  <thead>\n",
       "    <tr style=\"text-align: right;\">\n",
       "      <th></th>\n",
       "      <th>abstrak</th>\n",
       "      <th>hapus angka</th>\n",
       "      <th>remov all</th>\n",
       "    </tr>\n",
       "  </thead>\n",
       "  <tbody>\n",
       "    <tr>\n",
       "      <th>0</th>\n",
       "      <td>\\r\\nProduk elektronik adalah suatu benda berge...</td>\n",
       "      <td>\\r\\nProduk elektronik adalah suatu benda berge...</td>\n",
       "      <td>Produk elektronik adalah suatu benda bergerak ...</td>\n",
       "    </tr>\n",
       "    <tr>\n",
       "      <th>1</th>\n",
       "      <td>Badan Usaha Milik Negara (BUMN) adalah Badan u...</td>\n",
       "      <td>Badan Usaha Milik Negara (BUMN) adalah Badan u...</td>\n",
       "      <td>Badan Usaha Milik Negara (BUMN) adalah Badan u...</td>\n",
       "    </tr>\n",
       "    <tr>\n",
       "      <th>2</th>\n",
       "      <td>ABSTRAK\\r\\n\\r\\nJaminan akan kemerdekaan dan ke...</td>\n",
       "      <td>ABSTRAK\\r\\n\\r\\nJaminan akan kemerdekaan dan ke...</td>\n",
       "      <td>ABSTRAK Jaminan akan kemerdekaan dan kebebasan...</td>\n",
       "    </tr>\n",
       "    <tr>\n",
       "      <th>3</th>\n",
       "      <td>ABSTRAK\\r\\n\\r\\nPendaftaran tanah untuk pertama...</td>\n",
       "      <td>ABSTRAK\\r\\n\\r\\nPendaftaran tanah untuk pertama...</td>\n",
       "      <td>ABSTRAK Pendaftaran tanah untuk pertama kali b...</td>\n",
       "    </tr>\n",
       "    <tr>\n",
       "      <th>4</th>\n",
       "      <td>\\r\\nABSTRAK\\r\\n\\r\\n\\tSalah satu bentuk kemajua...</td>\n",
       "      <td>\\r\\nABSTRAK\\r\\n\\r\\n\\tSalah satu bentuk kemajua...</td>\n",
       "      <td>ABSTRAK Salah satu bentuk kemajuan teknologi a...</td>\n",
       "    </tr>\n",
       "    <tr>\n",
       "      <th>5</th>\n",
       "      <td>ABSTRAK\\r\\nPelaksanaan perlindungan terhadap T...</td>\n",
       "      <td>ABSTRAK\\r\\nPelaksanaan perlindungan terhadap T...</td>\n",
       "      <td>ABSTRAK Pelaksanaan perlindungan terhadap Tena...</td>\n",
       "    </tr>\n",
       "    <tr>\n",
       "      <th>6</th>\n",
       "      <td>ABSTRAK\\r\\n\\r\\nPerbedaan aliran yaitu antara a...</td>\n",
       "      <td>ABSTRAK\\r\\n\\r\\nPerbedaan aliran yaitu antara a...</td>\n",
       "      <td>ABSTRAK Perbedaan aliran yaitu antara aliran s...</td>\n",
       "    </tr>\n",
       "    <tr>\n",
       "      <th>7</th>\n",
       "      <td>ABSTRAK\\r\\nPasal 24C Ayat (1) Undang Undang Da...</td>\n",
       "      <td>ABSTRAK\\r\\nPasal C Ayat () Undang Undang Dasar...</td>\n",
       "      <td>ABSTRAK Pasal C Ayat () Undang Undang Dasar Ne...</td>\n",
       "    </tr>\n",
       "    <tr>\n",
       "      <th>8</th>\n",
       "      <td>ABSTRAK\\r\\n\\r\\nUndang-undang No 12 tahun 2011 ...</td>\n",
       "      <td>ABSTRAK\\r\\n\\r\\nUndang-undang No  tahun  tentan...</td>\n",
       "      <td>ABSTRAK Undang-undang No tahun tentang Pembent...</td>\n",
       "    </tr>\n",
       "    <tr>\n",
       "      <th>9</th>\n",
       "      <td>Oli bekas kapal merupakan oli sisa yang dihasi...</td>\n",
       "      <td>Oli bekas kapal merupakan oli sisa yang dihasi...</td>\n",
       "      <td>Oli bekas kapal merupakan oli sisa yang dihasi...</td>\n",
       "    </tr>\n",
       "  </tbody>\n",
       "</table>\n",
       "</div>"
      ],
      "text/plain": [
       "                                             abstrak  \\\n",
       "0  \\r\\nProduk elektronik adalah suatu benda berge...   \n",
       "1  Badan Usaha Milik Negara (BUMN) adalah Badan u...   \n",
       "2  ABSTRAK\\r\\n\\r\\nJaminan akan kemerdekaan dan ke...   \n",
       "3  ABSTRAK\\r\\n\\r\\nPendaftaran tanah untuk pertama...   \n",
       "4  \\r\\nABSTRAK\\r\\n\\r\\n\\tSalah satu bentuk kemajua...   \n",
       "5  ABSTRAK\\r\\nPelaksanaan perlindungan terhadap T...   \n",
       "6  ABSTRAK\\r\\n\\r\\nPerbedaan aliran yaitu antara a...   \n",
       "7  ABSTRAK\\r\\nPasal 24C Ayat (1) Undang Undang Da...   \n",
       "8  ABSTRAK\\r\\n\\r\\nUndang-undang No 12 tahun 2011 ...   \n",
       "9  Oli bekas kapal merupakan oli sisa yang dihasi...   \n",
       "\n",
       "                                         hapus angka  \\\n",
       "0  \\r\\nProduk elektronik adalah suatu benda berge...   \n",
       "1  Badan Usaha Milik Negara (BUMN) adalah Badan u...   \n",
       "2  ABSTRAK\\r\\n\\r\\nJaminan akan kemerdekaan dan ke...   \n",
       "3  ABSTRAK\\r\\n\\r\\nPendaftaran tanah untuk pertama...   \n",
       "4  \\r\\nABSTRAK\\r\\n\\r\\n\\tSalah satu bentuk kemajua...   \n",
       "5  ABSTRAK\\r\\nPelaksanaan perlindungan terhadap T...   \n",
       "6  ABSTRAK\\r\\n\\r\\nPerbedaan aliran yaitu antara a...   \n",
       "7  ABSTRAK\\r\\nPasal C Ayat () Undang Undang Dasar...   \n",
       "8  ABSTRAK\\r\\n\\r\\nUndang-undang No  tahun  tentan...   \n",
       "9  Oli bekas kapal merupakan oli sisa yang dihasi...   \n",
       "\n",
       "                                           remov all  \n",
       "0  Produk elektronik adalah suatu benda bergerak ...  \n",
       "1  Badan Usaha Milik Negara (BUMN) adalah Badan u...  \n",
       "2  ABSTRAK Jaminan akan kemerdekaan dan kebebasan...  \n",
       "3  ABSTRAK Pendaftaran tanah untuk pertama kali b...  \n",
       "4  ABSTRAK Salah satu bentuk kemajuan teknologi a...  \n",
       "5  ABSTRAK Pelaksanaan perlindungan terhadap Tena...  \n",
       "6  ABSTRAK Perbedaan aliran yaitu antara aliran s...  \n",
       "7  ABSTRAK Pasal C Ayat () Undang Undang Dasar Ne...  \n",
       "8  ABSTRAK Undang-undang No tahun tentang Pembent...  \n",
       "9  Oli bekas kapal merupakan oli sisa yang dihasi...  "
      ]
     },
     "execution_count": 92,
     "metadata": {},
     "output_type": "execute_result"
    }
   ],
   "source": [
    "def remove_all(text):\n",
    "    # remove tab, new line, ans back slice\n",
    "    text = text.replace('\\\\t',\" \").replace('\\\\n',\" \").replace('\\\\u',\" \").replace('\\\\',\"\")\n",
    "    # remove non ASCII (emoticon, chinese word, .etc)\n",
    "    text = text.encode('ascii', 'replace').decode('ascii')\n",
    "    # remove mention, link, hashtag\n",
    "    text = ' '.join(re.sub(\"([@#][A-Za-z0-9]+)|(\\w+:\\/\\/\\S+)\",\" \", text).split())\n",
    "    # remove incomplete URL\n",
    "    return text.replace(\"http://\", \" \").replace(\"https://\", \" \")\n",
    "df['remov all'] = df['hapus angka'].apply(remove_all)\n",
    "df.head(10)"
   ]
  },
  {
   "cell_type": "code",
   "execution_count": 93,
   "id": "9cb8cb96",
   "metadata": {},
   "outputs": [
    {
     "name": "stdout",
     "output_type": "stream",
     "text": [
      "0     produk elektronik adalah suatu benda bergerak ...\n",
      "1     badan usaha milik negara (bumn) adalah badan u...\n",
      "2     abstrak jaminan akan kemerdekaan dan kebebasan...\n",
      "3     abstrak pendaftaran tanah untuk pertama kali b...\n",
      "4     abstrak salah satu bentuk kemajuan teknologi a...\n",
      "5     abstrak pelaksanaan perlindungan terhadap tena...\n",
      "6     abstrak perbedaan aliran yaitu antara aliran s...\n",
      "7     abstrak pasal c ayat () undang undang dasar ne...\n",
      "8     abstrak undang-undang no tahun tentang pembent...\n",
      "9     oli bekas kapal merupakan oli sisa yang dihasi...\n",
      "10    undang-undang tentang penghapusan kekerasan da...\n",
      "11    abstrak pelaksanaan terhadap kebijakan morator...\n",
      "12    abstrak perkembangan teknologi informasi dan k...\n",
      "13    pers memaknai segala kegiatan jurnalistiknya m...\n",
      "14    tindak pidana narkotika merupakan tindak kejah...\n",
      "15    penelitian ini dilatarbelakangi oleh keinginta...\n",
      "16    peradilan in absentia adalah konsep di mana te...\n",
      "Name: remov all, dtype: object\n"
     ]
    }
   ],
   "source": [
    "#mengubah huruf menjadi kecil dengan menggunakan Series.str.lower() pada pandas\n",
    "\n",
    "df['remov all'] = df['remov all'].str.lower()\n",
    "\n",
    "print (df['remov all'])"
   ]
  },
  {
   "cell_type": "markdown",
   "id": "53276dea",
   "metadata": {},
   "source": [
    "## Stopword"
   ]
  },
  {
   "cell_type": "markdown",
   "id": "283e4349",
   "metadata": {},
   "source": [
    "Proses selanjutnya adalah proses Stopword. Stopword merupakan proses mengabaikan kata-kata yang perlu di abaikan dalam sebuah dokumen dan memilih kata-kata penting yang mewakili suatu dokumen."
   ]
  },
  {
   "cell_type": "code",
   "execution_count": 94,
   "id": "ac752ad1",
   "metadata": {},
   "outputs": [],
   "source": [
    "def clean_text(headline):\n",
    "  le=WordNetLemmatizer()\n",
    "  word_tokens=word_tokenize(headline)\n",
    "  tokens=[le.lemmatize(w) for w in word_tokens if w not in stop_words and len(w)>3]\n",
    "  cleaned_text=\" \".join(tokens)\n",
    "  return cleaned_text"
   ]
  },
  {
   "cell_type": "code",
   "execution_count": 95,
   "id": "7b93d1b1",
   "metadata": {},
   "outputs": [],
   "source": [
    "# time taking\n",
    "#nltk.download('wordnet')\n",
    "df['clean_text_isi']=df['hapus angka'].apply(clean_text)"
   ]
  },
  {
   "cell_type": "code",
   "execution_count": 96,
   "id": "c998bd3e",
   "metadata": {},
   "outputs": [
    {
     "data": {
      "text/html": [
       "<div>\n",
       "<style scoped>\n",
       "    .dataframe tbody tr th:only-of-type {\n",
       "        vertical-align: middle;\n",
       "    }\n",
       "\n",
       "    .dataframe tbody tr th {\n",
       "        vertical-align: top;\n",
       "    }\n",
       "\n",
       "    .dataframe thead th {\n",
       "        text-align: right;\n",
       "    }\n",
       "</style>\n",
       "<table border=\"1\" class=\"dataframe\">\n",
       "  <thead>\n",
       "    <tr style=\"text-align: right;\">\n",
       "      <th></th>\n",
       "      <th>abstrak</th>\n",
       "      <th>hapus angka</th>\n",
       "      <th>remov all</th>\n",
       "      <th>clean_text_isi</th>\n",
       "    </tr>\n",
       "  </thead>\n",
       "  <tbody>\n",
       "    <tr>\n",
       "      <th>0</th>\n",
       "      <td>\\r\\nProduk elektronik adalah suatu benda berge...</td>\n",
       "      <td>\\r\\nProduk elektronik adalah suatu benda berge...</td>\n",
       "      <td>produk elektronik adalah suatu benda bergerak ...</td>\n",
       "      <td>Produk elektronik benda bergerak dihasilkan pr...</td>\n",
       "    </tr>\n",
       "    <tr>\n",
       "      <th>1</th>\n",
       "      <td>Badan Usaha Milik Negara (BUMN) adalah Badan u...</td>\n",
       "      <td>Badan Usaha Milik Negara (BUMN) adalah Badan u...</td>\n",
       "      <td>badan usaha milik negara (bumn) adalah badan u...</td>\n",
       "      <td>Badan Usaha Milik Negara BUMN Badan usaha moda...</td>\n",
       "    </tr>\n",
       "    <tr>\n",
       "      <th>2</th>\n",
       "      <td>ABSTRAK\\r\\n\\r\\nJaminan akan kemerdekaan dan ke...</td>\n",
       "      <td>ABSTRAK\\r\\n\\r\\nJaminan akan kemerdekaan dan ke...</td>\n",
       "      <td>abstrak jaminan akan kemerdekaan dan kebebasan...</td>\n",
       "      <td>ABSTRAK Jaminan kemerdekaan kebebasan pers Ind...</td>\n",
       "    </tr>\n",
       "    <tr>\n",
       "      <th>3</th>\n",
       "      <td>ABSTRAK\\r\\n\\r\\nPendaftaran tanah untuk pertama...</td>\n",
       "      <td>ABSTRAK\\r\\n\\r\\nPendaftaran tanah untuk pertama...</td>\n",
       "      <td>abstrak pendaftaran tanah untuk pertama kali b...</td>\n",
       "      <td>ABSTRAK Pendaftaran tanah kali bertujuan kepas...</td>\n",
       "    </tr>\n",
       "    <tr>\n",
       "      <th>4</th>\n",
       "      <td>\\r\\nABSTRAK\\r\\n\\r\\n\\tSalah satu bentuk kemajua...</td>\n",
       "      <td>\\r\\nABSTRAK\\r\\n\\r\\n\\tSalah satu bentuk kemajua...</td>\n",
       "      <td>abstrak salah satu bentuk kemajuan teknologi a...</td>\n",
       "      <td>ABSTRAK Salah bentuk kemajuan teknologi jual b...</td>\n",
       "    </tr>\n",
       "  </tbody>\n",
       "</table>\n",
       "</div>"
      ],
      "text/plain": [
       "                                             abstrak  \\\n",
       "0  \\r\\nProduk elektronik adalah suatu benda berge...   \n",
       "1  Badan Usaha Milik Negara (BUMN) adalah Badan u...   \n",
       "2  ABSTRAK\\r\\n\\r\\nJaminan akan kemerdekaan dan ke...   \n",
       "3  ABSTRAK\\r\\n\\r\\nPendaftaran tanah untuk pertama...   \n",
       "4  \\r\\nABSTRAK\\r\\n\\r\\n\\tSalah satu bentuk kemajua...   \n",
       "\n",
       "                                         hapus angka  \\\n",
       "0  \\r\\nProduk elektronik adalah suatu benda berge...   \n",
       "1  Badan Usaha Milik Negara (BUMN) adalah Badan u...   \n",
       "2  ABSTRAK\\r\\n\\r\\nJaminan akan kemerdekaan dan ke...   \n",
       "3  ABSTRAK\\r\\n\\r\\nPendaftaran tanah untuk pertama...   \n",
       "4  \\r\\nABSTRAK\\r\\n\\r\\n\\tSalah satu bentuk kemajua...   \n",
       "\n",
       "                                           remov all  \\\n",
       "0  produk elektronik adalah suatu benda bergerak ...   \n",
       "1  badan usaha milik negara (bumn) adalah badan u...   \n",
       "2  abstrak jaminan akan kemerdekaan dan kebebasan...   \n",
       "3  abstrak pendaftaran tanah untuk pertama kali b...   \n",
       "4  abstrak salah satu bentuk kemajuan teknologi a...   \n",
       "\n",
       "                                      clean_text_isi  \n",
       "0  Produk elektronik benda bergerak dihasilkan pr...  \n",
       "1  Badan Usaha Milik Negara BUMN Badan usaha moda...  \n",
       "2  ABSTRAK Jaminan kemerdekaan kebebasan pers Ind...  \n",
       "3  ABSTRAK Pendaftaran tanah kali bertujuan kepas...  \n",
       "4  ABSTRAK Salah bentuk kemajuan teknologi jual b...  "
      ]
     },
     "execution_count": 96,
     "metadata": {},
     "output_type": "execute_result"
    }
   ],
   "source": [
    "df.head()"
   ]
  },
  {
   "cell_type": "markdown",
   "id": "5c0b3486",
   "metadata": {},
   "source": [
    "setelah Stopword, proses selanjutnya sama dengan proses sebelumnya yaitu menghapus data pada tabel yang tidak diperlukan dan hanya menyisakan data pada tabel hasil dari proses sebelumnya."
   ]
  },
  {
   "cell_type": "code",
   "execution_count": 97,
   "id": "1de7e227",
   "metadata": {},
   "outputs": [],
   "source": [
    "df.drop(['abstrak','hapus angka', 'clean_text_isi'],axis=1,inplace=True)"
   ]
  },
  {
   "cell_type": "code",
   "execution_count": 98,
   "id": "152871ae",
   "metadata": {},
   "outputs": [
    {
     "data": {
      "text/html": [
       "<div>\n",
       "<style scoped>\n",
       "    .dataframe tbody tr th:only-of-type {\n",
       "        vertical-align: middle;\n",
       "    }\n",
       "\n",
       "    .dataframe tbody tr th {\n",
       "        vertical-align: top;\n",
       "    }\n",
       "\n",
       "    .dataframe thead th {\n",
       "        text-align: right;\n",
       "    }\n",
       "</style>\n",
       "<table border=\"1\" class=\"dataframe\">\n",
       "  <thead>\n",
       "    <tr style=\"text-align: right;\">\n",
       "      <th></th>\n",
       "      <th>remov all</th>\n",
       "    </tr>\n",
       "  </thead>\n",
       "  <tbody>\n",
       "    <tr>\n",
       "      <th>0</th>\n",
       "      <td>produk elektronik adalah suatu benda bergerak ...</td>\n",
       "    </tr>\n",
       "    <tr>\n",
       "      <th>1</th>\n",
       "      <td>badan usaha milik negara (bumn) adalah badan u...</td>\n",
       "    </tr>\n",
       "    <tr>\n",
       "      <th>2</th>\n",
       "      <td>abstrak jaminan akan kemerdekaan dan kebebasan...</td>\n",
       "    </tr>\n",
       "    <tr>\n",
       "      <th>3</th>\n",
       "      <td>abstrak pendaftaran tanah untuk pertama kali b...</td>\n",
       "    </tr>\n",
       "    <tr>\n",
       "      <th>4</th>\n",
       "      <td>abstrak salah satu bentuk kemajuan teknologi a...</td>\n",
       "    </tr>\n",
       "    <tr>\n",
       "      <th>5</th>\n",
       "      <td>abstrak pelaksanaan perlindungan terhadap tena...</td>\n",
       "    </tr>\n",
       "    <tr>\n",
       "      <th>6</th>\n",
       "      <td>abstrak perbedaan aliran yaitu antara aliran s...</td>\n",
       "    </tr>\n",
       "    <tr>\n",
       "      <th>7</th>\n",
       "      <td>abstrak pasal c ayat () undang undang dasar ne...</td>\n",
       "    </tr>\n",
       "    <tr>\n",
       "      <th>8</th>\n",
       "      <td>abstrak undang-undang no tahun tentang pembent...</td>\n",
       "    </tr>\n",
       "    <tr>\n",
       "      <th>9</th>\n",
       "      <td>oli bekas kapal merupakan oli sisa yang dihasi...</td>\n",
       "    </tr>\n",
       "    <tr>\n",
       "      <th>10</th>\n",
       "      <td>undang-undang tentang penghapusan kekerasan da...</td>\n",
       "    </tr>\n",
       "    <tr>\n",
       "      <th>11</th>\n",
       "      <td>abstrak pelaksanaan terhadap kebijakan morator...</td>\n",
       "    </tr>\n",
       "    <tr>\n",
       "      <th>12</th>\n",
       "      <td>abstrak perkembangan teknologi informasi dan k...</td>\n",
       "    </tr>\n",
       "    <tr>\n",
       "      <th>13</th>\n",
       "      <td>pers memaknai segala kegiatan jurnalistiknya m...</td>\n",
       "    </tr>\n",
       "    <tr>\n",
       "      <th>14</th>\n",
       "      <td>tindak pidana narkotika merupakan tindak kejah...</td>\n",
       "    </tr>\n",
       "    <tr>\n",
       "      <th>15</th>\n",
       "      <td>penelitian ini dilatarbelakangi oleh keinginta...</td>\n",
       "    </tr>\n",
       "    <tr>\n",
       "      <th>16</th>\n",
       "      <td>peradilan in absentia adalah konsep di mana te...</td>\n",
       "    </tr>\n",
       "  </tbody>\n",
       "</table>\n",
       "</div>"
      ],
      "text/plain": [
       "                                            remov all\n",
       "0   produk elektronik adalah suatu benda bergerak ...\n",
       "1   badan usaha milik negara (bumn) adalah badan u...\n",
       "2   abstrak jaminan akan kemerdekaan dan kebebasan...\n",
       "3   abstrak pendaftaran tanah untuk pertama kali b...\n",
       "4   abstrak salah satu bentuk kemajuan teknologi a...\n",
       "5   abstrak pelaksanaan perlindungan terhadap tena...\n",
       "6   abstrak perbedaan aliran yaitu antara aliran s...\n",
       "7   abstrak pasal c ayat () undang undang dasar ne...\n",
       "8   abstrak undang-undang no tahun tentang pembent...\n",
       "9   oli bekas kapal merupakan oli sisa yang dihasi...\n",
       "10  undang-undang tentang penghapusan kekerasan da...\n",
       "11  abstrak pelaksanaan terhadap kebijakan morator...\n",
       "12  abstrak perkembangan teknologi informasi dan k...\n",
       "13  pers memaknai segala kegiatan jurnalistiknya m...\n",
       "14  tindak pidana narkotika merupakan tindak kejah...\n",
       "15  penelitian ini dilatarbelakangi oleh keinginta...\n",
       "16  peradilan in absentia adalah konsep di mana te..."
      ]
     },
     "execution_count": 98,
     "metadata": {},
     "output_type": "execute_result"
    }
   ],
   "source": [
    "df"
   ]
  },
  {
   "cell_type": "markdown",
   "id": "a319769f",
   "metadata": {},
   "source": [
    "Untuk menampilkan isi dari suatu index data pada tabel dapat dilakukan dengan menggunakan code berikut:"
   ]
  },
  {
   "cell_type": "code",
   "execution_count": 99,
   "id": "4ae593c2",
   "metadata": {},
   "outputs": [
    {
     "data": {
      "text/plain": [
       "'undang-undang tentang penghapusan kekerasan dalam rumah tangga (uu- pkdrt) nomor tahun membuat sebagian orang berpikir bahwa masalah pribadi menjadi konsumsi pablik. tidak dapat diungkiri masyarakat kita menganggap masalah keluarga yang tidak perlu diungkap karenanya tidak layak diungkap ke muka umum. maka tidak salah, walaupun undang-undang ini sudah berlaku tahun, kasus yang dilaporkan masih sedikit. dalam pasal uu pkdrt, dimandatkan untuk dibuatnya peraturan pemerintah terkait pelaksanaan pemenuhan hak-hak korban dalam rangka pemulihan. peraturan pemerintah untuk uu pdkrt terkait dengan upaya pemulihan baru ditetapkan tahun , yakni peraturan pemerintah nomor tahun tentang penyelenggaraan dan kerjasama pemulihan korban kekerasan dalam rumah tangga. peraturan pemerintah ini menekankan bahwa pemulihan terhadap korban kdrt tidak hanya berupa pemulihan fisik, tetapi juga psikis. sehingga sangat diperlukan fasilitas dan kerjasama antar pihak yang telah disebutkan dalam undang-undang. peraturan pemerintah ini juga menyebutkan pentingnya pendamping. upaya-upaya seperti pemerintah kota surabaya melalui bapemas dan kb, sebagai penyelenggara pusat pelayanan terpadu perlindungan perempuan dan anak (pptpa) kota surabaya untuk memecahkan kebisuan dari korban karena ketidakberanian dan terbatasnya akses korban kepada hukum. selain itu juga untuk mengatasi fenomena gunung es kasus kdrt dan menjawab keadilan bagi korban dengan mengungkapkan kebenaran.'"
      ]
     },
     "execution_count": 99,
     "metadata": {},
     "output_type": "execute_result"
    }
   ],
   "source": [
    "df['remov all'][10]"
   ]
  },
  {
   "cell_type": "code",
   "execution_count": 105,
   "id": "8eda1a03",
   "metadata": {},
   "outputs": [],
   "source": [
    "df.to_csv(\"abstrak_pre-processing\")"
   ]
  },
  {
   "cell_type": "markdown",
   "id": "61d2e84a",
   "metadata": {},
   "source": [
    "### Mengekstraksi Fitur dan Membuat Document-Term-Matrix (DTM)"
   ]
  },
  {
   "cell_type": "markdown",
   "id": "5b279e2a",
   "metadata": {},
   "source": [
    "Term Frequency-Inverse Document Frequency (TF-IDF) adalah algoritma yang digunakan untuk menganalisa hubungan natara frase/kalimat dengan sekumpulan dokumen. Inti algoritma TF-IDF adalah menghitung terlebih dahulu nilai TF dan nilai IDF dari masing -masing dokumen. \n",
    "\n",
    "\n",
    "Term Frequency(TF) adalah jumlah kemunculan sebuah term pada sebuah dokumen\n",
    "Nilai TF dihitung menggunakan rumus:\n",
    "\n",
    "$$\n",
    "\\mathrm{tf}(t, d)=\\frac{f_{t_{1} d}}{\\sum_{t^{\\prime} \\in d} f_{t^{\\prime}, d}}\n",
    "$$\n",
    "\n",
    "Inverse Document Frequency(IDF) yaitu pengurangan dominasi term yang sering muncul diberbagai dokumen, dengan memperhitungkan kebalikan frekuensi dokumen yang mengandung suatu kata.\n",
    "dan nilai IDF dihitung dengan rumus:\n",
    "$$\n",
    "\\operatorname{idf}=\\log \\left(\\frac{D}{d f}\\right)\n",
    "$$\n",
    "\n",
    "setelah mendapatkan nilai TF dan IDF, yang akan kita hitung adalah nilai dari TF-IDF, berikut adalah rumus perhitungannya:\n",
    "$$\n",
    "\\begin{gathered}\n",
    "Tf-idf=t f_{i j} * i d f_{j} \\\\\n",
    "Tf-idf=t f_{i j} * \\log \\left(\\frac{D}{d f}\\right)\n",
    "\\end{gathered}\n",
    "$$\n",
    "\n",
    "Catatan:\n",
    "\n",
    "Df = jumlah dokumen yang didalamnya memuat term tertentu\n",
    "\n",
    "D = Jumlah Dokumen yang di perbandingkan\n"
   ]
  },
  {
   "cell_type": "markdown",
   "id": "a622e33d",
   "metadata": {},
   "source": [
    "Terdapat beberapa poin penting yaitu:\n",
    "\n",
    "1) LSA umumnya diimplementasikan dengan nilai Tf-Idf di mana-mana dan bukan dengan Count Vectorizer.\n",
    "\n",
    "2) max_features tergantung pada daya komputasi dan juga pada eval. Metrik (skor koherensi adalah metrik untuk model topik). \n",
    "\n",
    "3) Nilai default untuk min_df &max_df bekerja dengan baik.\n",
    "\n",
    "4) Dapat mencoba nilai yang berbeda untuk ngram_range."
   ]
  },
  {
   "cell_type": "code",
   "execution_count": 112,
   "id": "0af5ae5b",
   "metadata": {},
   "outputs": [
    {
     "data": {
      "text/html": [
       "<div>\n",
       "<style scoped>\n",
       "    .dataframe tbody tr th:only-of-type {\n",
       "        vertical-align: middle;\n",
       "    }\n",
       "\n",
       "    .dataframe tbody tr th {\n",
       "        vertical-align: top;\n",
       "    }\n",
       "\n",
       "    .dataframe thead th {\n",
       "        text-align: right;\n",
       "    }\n",
       "</style>\n",
       "<table border=\"1\" class=\"dataframe\">\n",
       "  <thead>\n",
       "    <tr style=\"text-align: right;\">\n",
       "      <th></th>\n",
       "      <th>hasil-akhir</th>\n",
       "    </tr>\n",
       "  </thead>\n",
       "  <tbody>\n",
       "    <tr>\n",
       "      <th>0</th>\n",
       "      <td>produk elektronik adalah suatu benda bergerak ...</td>\n",
       "    </tr>\n",
       "    <tr>\n",
       "      <th>1</th>\n",
       "      <td>badan usaha milik negara (bumn) adalah badan u...</td>\n",
       "    </tr>\n",
       "    <tr>\n",
       "      <th>2</th>\n",
       "      <td>abstrak jaminan akan kemerdekaan dan kebebasan...</td>\n",
       "    </tr>\n",
       "    <tr>\n",
       "      <th>3</th>\n",
       "      <td>abstrak pendaftaran tanah untuk pertama kali b...</td>\n",
       "    </tr>\n",
       "    <tr>\n",
       "      <th>4</th>\n",
       "      <td>abstrak salah satu bentuk kemajuan teknologi a...</td>\n",
       "    </tr>\n",
       "  </tbody>\n",
       "</table>\n",
       "</div>"
      ],
      "text/plain": [
       "                                         hasil-akhir\n",
       "0  produk elektronik adalah suatu benda bergerak ...\n",
       "1  badan usaha milik negara (bumn) adalah badan u...\n",
       "2  abstrak jaminan akan kemerdekaan dan kebebasan...\n",
       "3  abstrak pendaftaran tanah untuk pertama kali b...\n",
       "4  abstrak salah satu bentuk kemajuan teknologi a..."
      ]
     },
     "execution_count": 112,
     "metadata": {},
     "output_type": "execute_result"
    }
   ],
   "source": [
    "import pandas as pd\n",
    "import numpy as np\n",
    "\n",
    "df = pd.read_csv(\"abstrak_pre-processing\", usecols=['remov all'])\n",
    "df.columns = ['hasil-akhir']\n",
    "\n",
    "df.head()"
   ]
  },
  {
   "cell_type": "code",
   "execution_count": 114,
   "id": "d1c8cf44",
   "metadata": {},
   "outputs": [
    {
     "name": "stdout",
     "output_type": "stream",
     "text": [
      "Vocabulary:  {'produk': 746, 'elektronik': 225, 'adalah': 6, 'suatu': 846, 'benda': 64, 'bergerak': 74, 'yang': 956, 'dihasilkan': 167, 'melalui': 458, 'proses': 751, 'produksi': 747, 'oleh': 588, 'pengusaha': 663, 'berupa': 100, 'peralatan': 688, 'atau': 37, 'alat': 20, 'bekerja': 59, 'berdasarkan': 72, 'kerja': 357, 'elektronika': 226, 'selalu': 808, 'update': 937, 'bervariasi': 101, 'baik': 49, 'dari': 134, 'segi': 801, 'bentuk': 65, 'maupun': 452, 'kecanggihannya': 322, 'contohnya': 121, 'televisi': 879, 'radio': 757, 'handphone': 249, 'perekam': 695, 'kaset': 307, 'compact': 117, 'disc': 203, 'kamera': 299, 'digital': 160, 'video': 944, 'dan': 132, 'lain': 412, 'jenis': 287, 'tersebut': 907, 'merupakan': 556, 'barang': 54, 'sering': 822, 'digunakan': 162, 'telah': 877, 'menjadi': 538, 'kebutuhan': 321, 'setiap': 827, 'manusia': 439, 'karena': 303, 'banyak': 51, 'membantu': 474, 'pekerjaan': 607, 'di': 142, 'kehidupan': 329, 'sehari': 802, 'hari': 252, 'dalam': 129, 'efesiensi': 223, 'waktu': 946, 'tenaga': 882, 'sehingga': 804, 'sangat': 787, 'diminati': 188, 'beredar': 73, 'tidak': 912, 'memiliki': 484, 'panduan': 599, 'bahasa': 47, 'indonesia': 271, 'negeri': 581, 'luar': 427, 'hal': 248, 'ini': 274, 'jelas': 285, 'melanggar': 459, 'pasal': 601, 'ayat': 41, 'huruf': 261, 'uupk': 943, 'peraturan': 690, 'menteri': 546, 'perdagangan': 693, 'republik': 769, 'nomor': 584, 'dag': 126, 'per': 685, 'tentang': 884, 'pendaftaran': 637, 'petunjuk': 726, 'penggunaan': 656, 'manual': 438, 'kartu': 306, 'jaminan': 282, 'garansi': 240, 'purna': 753, 'jual': 290, 'bagi': 45, 'telematika': 878, 'juga': 291, 'kewajiban': 375, 'pencantuman': 636, 'label': 410, 'pada': 595, 'tujuan': 926, 'peneliti': 645, 'untuk': 935, 'mengetahui': 523, 'apakah': 28, 'pelaku': 610, 'usaha': 940, 'menjual': 543, 'mencantumkan': 496, 'serta': 823, 'siapakah': 830, 'dapat': 133, 'digugat': 161, 'konsumen': 394, 'mengalami': 509, 'kerugian': 359, 'atas': 36, 'metode': 559, 'yuridis': 957, 'normatif': 586, 'adapun': 8, 'pendekatan': 641, 'ialah': 262, 'perundang': 723, 'undangan': 933, 'statute': 844, 'approach': 29, 'hasil': 255, 'penelitian': 646, 'menunjukkan': 547, 'bahwa': 48, 'termasuk': 903, 'wajib': 945, 'buku': 111, 'jika': 288, 'maka': 431, 'produsen': 748, 'membuat': 478, 'harus': 254, 'bertanggung': 93, 'jawab': 284, 'sedangkan': 798, 'berasal': 70, 'importir': 269, 'sebagai': 790, 'pihak': 730, 'memasukkan': 471, 'ke': 313, 'wilayah': 952, 'badan': 42, 'milik': 561, 'negara': 579, 'bumn': 112, 'sebagian': 792, 'seluruh': 811, 'modalnya': 563, 'dimiliki': 187, 'kekayaan': 335, 'dipisahkan': 199, 'namun': 575, 'segala': 800, 'ketentuan': 367, 'berlaku': 83, 'persero': 713, 'mengacu': 504, 'undang': 932, 'perseroan': 714, 'terbatas': 891, 'tapi': 871, 'kenyataannya': 348, 'kasus': 308, 'terjadi': 896, 'direksi': 200, 'dimana': 185, 'bertanggungjawab': 94, 'secara': 796, 'pidana': 728, 'kususnya': 409, 'tindak': 915, 'korupsi': 399, 'putusan': 755, 'hakim': 246, 'no': 583, 'pid': 727, 'dikarenakan': 171, 'modal': 562, 'jadi': 281, 'ketika': 374, 'dianggap': 149, 'penulisan': 673, 'yaitu': 954, 'bagaimana': 43, 'pertanggungjawaban': 719, 'mana': 433, 'menggunakan': 524, 'statue': 842, 'case': 116, 'diperoleh': 198, 'identik': 264, 'dengan': 140, 'keyword': 379, 'abstrak': 2, 'akan': 15, 'kemerdekaan': 345, 'kebebasan': 315, 'pers': 711, 'berpijak': 87, 'dua': 221, 'landasan': 416, 'hukum': 259, 'dasar': 135, 'tahun': 864, 'terjaminnya': 898, 'diharapkan': 165, 'mampu': 432, 'mengimplementasikan': 528, 'hak': 245, 'peran': 689, 'fungsi': 238, 'pemberi': 620, 'peringatan': 699, 'dini': 189, 'mengungkap': 533, 'ketidakadilan': 371, 'kesewenang': 363, 'wenangan': 951, 'penyelenggara': 676, 'tetapi': 909, 'melaksanakan': 456, 'disadari': 202, 'sekali': 805, 'melakukan': 457, 'pelanggaran': 611, 'asas': 31, 'praduga': 740, 'bersalah': 89, 'trial': 925, 'by': 114, 'the': 911, 'press': 742, 'isu': 278, 'menarik': 494, 'diteliti': 215, 'lebih': 421, 'lanjut': 418, 'sebab': 789, 'pemberitaan': 622, 'media': 454, 'massa': 446, 'mencamtumkan': 495, 'identitas': 265, 'bukan': 109, 'masalah': 442, 'historis': 258, 'konseptual': 390, 'menjawab': 542, 'diatas': 150, 'dikatakan': 173, 'mendakwa': 498, 'menuntut': 548, 'memutus': 490, 'seorang': 818, 'tanpa': 869, 'adanya': 7, 'bukti': 110, 'fakta': 230, 'sebenarnya': 794, 'penghakiman': 657, 'beritanya': 76, 'dikatagorikan': 172, 'peduli': 605, 'berita': 75, 'itu': 280, 'salah': 782, 'satu': 788, 'upaya': 936, 'pelaporan': 612, 'lapangan': 419, 'sesuai': 825, 'informatif': 273, 'kuhap': 405, 'butir': 113, 'kata': 309, 'kunci': 407, 'praduaga': 739, 'tanah': 866, 'pertama': 717, 'kali': 298, 'bertujuan': 99, 'memberikan': 477, 'kepastian': 352, 'rakyat': 758, 'dilaksanakan': 178, 'pemerintah': 628, 'membeikan': 475, 'solusi': 838, 'kepada': 350, 'masyarakat': 448, 'menentukan': 503, 'pilihan': 731, 'terhadap': 895, 'pendaftran': 638, 'pelaksanaan': 609, 'kendala': 347, 'dialami': 145, 'empiris': 227, 'data': 136, 'primer': 744, 'langsung': 417, 'wawancara': 950, 'sekunder': 806, 'studi': 845, 'kepustakaan': 354, 'analisis': 24, 'cara': 115, 'kualitatif': 404, 'petuk': 725, 'pajak': 596, 'letter': 423, 'tetap': 908, 'memperoleh': 486, 'penegasan': 644, 'konversi': 396, 'perubahan': 721, 'turun': 928, 'temurun': 881, 'menurut': 549, 'adat': 9, 'mengaturnya': 519, 'daftarkan': 125, 'dikantor': 170, 'pertanahan': 718, 'beberapa': 57, 'sulitnya': 851, 'mendapatkan': 499, 'koher': 386, 'masih': 444, 'dibawa': 152, 'kepala': 351, 'desa': 141, 'lama': 415, 'mengatasi': 517, 'kantor': 301, 'kabupaten': 296, 'bangkalan': 50, 'mengadakan': 505, 'sosialisai': 839, 'prosedur': 750, 'sosialisasi': 840, 'diberikan': 154, 'pengetahuan': 655, 'bidang': 104, 'dilakukan': 179, 'teratur': 890, 'berkesinambungan': 81, 'menjalin': 541, 'sama': 783, 'antara': 26, 'instansi': 275, 'lainnya': 413, 'kemajuan': 342, 'teknologi': 875, 'beli': 61, 'internet': 276, 'transaksi': 923, 'memudahkan': 488, 'penjual': 667, 'pembeli': 617, 'bertemu': 95, 'pandangan': 598, 'islam': 277, 'melarang': 461, 'mengandung': 512, 'unsur': 934, 'gharar': 241, 'merusak': 557, 'ketentraman': 366, 'umat': 929, 'muslim': 573, 'dipandang': 192, 'memenuhi': 481, 'syarat': 859, 'sahnya': 777, 'syariah': 860, 'menyimpulkan': 554, 'fiqi': 234, 'memandang': 465, 'diperbolehkan': 194, 'mashlahah': 443, 'mengambil': 510, 'manfaat': 437, 'menolak': 544, 'mudhorot': 569, 'an': 22, 'rangka': 759, 'memelihara': 480, 'syara': 858, 'memperhatikan': 485, 'persyaratan': 716, 'hukumnya': 260, 'mubah': 568, 'boleh': 108, 'selama': 809, 'penawaran': 635, 'ada': 4, 'katalog': 310, 'situs': 836, 'rukun': 772, 'kenyataanya': 349, 'timbul': 914, 'harga': 251, 'menaikkan': 491, 'sepihak': 821, 'kualitas': 403, 'gambaran': 239, 'mengeni': 522, 'bahan': 46, 'pengiriman': 659, 'disebabkan': 204, 'jelasnya': 286, 'jangka': 283, 'mengakibatkan': 507, 'status': 843, 'subhat': 847, 'pertimbangan': 720, 'kemaslahatan': 343, 'perlindungan': 706, 'wanita': 948, 'tkw': 920, 'kebijakan': 319, 'diberlakukan': 155, 'dilandasi': 180, 'banyaknya': 52, 'kekerasan': 336, 'menimpa': 536, 'penempatan': 647, 'tki': 919, 'tentu': 885, 'berdampak': 71, 'besar': 103, 'asal': 30, 'rumusan': 774, 'diambil': 147, 'kemudian': 346, 'mengidentifikasi': 526, 'penyimpangan': 682, 'aspek': 34, 'dinsosnakertrans': 190, 'kab': 295, 'lakukan': 414, 'pjtki': 732, 'ctkw': 122, 'tetapkan': 910, 'menganut': 516, 'nasional': 578, 'karenakan': 304, 'sendiri': 815, 'terdapat': 894, 'daerah': 124, 'mengatur': 518, 'khusus': 381, 'pra': 738, 'agar': 11, 'bertindak': 97, 'tegas': 874, 'lagi': 411, 'dinyatakan': 191, 'kurang': 408, 'terampil': 888, 'berangkatkan': 69, 'terlebih': 901, 'dahulu': 127, 'pembuatan': 624, 'penyederhanaan': 675, 'birokrasi': 106, 'pelayanan': 613, 'mengoptimalkan': 530, 'rekruitmen': 765, 'sampai': 785, 'pasca': 602, 'keberpihakan': 318, 'warga': 949, 'menghadapi': 525, 'pemenuhan': 626, 'bersangkutan': 91, 'berangkat': 68, 'pelaksana': 608, 'mandiri': 436, 'perbedaan': 691, 'aliran': 21, 'sunni': 854, 'syi': 861, 'ah': 12, 'penyebab': 674, 'terjadinya': 897, 'berlatar': 85, 'belakang': 60, 'beragama': 67, 'sampang': 786, 'bertitik': 98, 'tolak': 922, 'ajaran': 14, 'mensosialisasikan': 545, 'penuh': 671, 'nilai': 582, 'kedamaian': 324, 'keselamatan': 360, 'penal': 632, 'non': 585, 'mengantisipasi': 515, 'pendekataran': 642, 'kejahatan': 332, 'yakni': 955, 'penerapan': 648, 'jo': 289, 'kuhp': 406, 'kedua': 325, 'pendidikan': 643, 'dakwah': 128, 'musyawarah': 574, 'penyuluhan': 684, 'agama': 10, 'pembinaan': 623, 'berkelanjutan': 78, 'membangun': 473, 'komitmen': 387, 'bersama': 90, 'perjanjian': 702, 'pemulihan': 630, 'trauma': 924, 'korban': 397, 'sambang': 784, 'tatap': 873, 'muka': 570, 'silaturohmi': 832, 'tokoh': 921, 'memasang': 470, 'sepanduk': 819, 'informasi': 272, 'pesan': 724, 'kamtibmas': 300, 'masjid': 445, 'sholat': 828, 'jum': 292, 'at': 35, 'menyatakan': 550, 'mahkamah': 430, 'konstitusi': 392, 'berwenang': 102, 'mengadili': 506, 'tingkat': 918, 'terakhir': 887, 'putusannya': 756, 'bersifat': 92, 'final': 233, 'sengketa': 817, 'kewenangan': 376, 'lembaga': 422, 'kewenangannya': 377, 'meberikan': 453, 'aturan': 40, 'cukup': 123, 'perkara': 703, 'terkait': 899, 'negaranya': 580, 'disebut': 205, 'memaparkan': 469, 'digabungkan': 159, 'conceptual': 118, 'mengenai': 520, 'sajakah': 779, 'berperkara': 86, 'ditafsirkan': 211, 'hanya': 250, 'tekstual': 876, 'saja': 778, 'dalamnya': 130, 'implisit': 268, 'terkandung': 900, 'pokok': 734, 'diperlukan': 197, 'guna': 242, 'menjalankan': 540, 'pembentukan': 618, 'memunculkan': 489, 'kembali': 344, 'tap': 870, 'mpr': 566, 'kedalam': 323, 'hierarki': 256, 'sebelumnya': 793, 'memang': 467, 'sempat': 813, 'masuk': 447, 'sebagaimana': 791, 'diatur': 151, 'mprs': 567, 'xx': 953, 'tata': 872, 'urutan': 939, 'iii': 267, 'susunan': 857, 'perudang': 722, 'akhirnya': 16, 'dikeluarkan': 175, 'berlakunya': 84, 'ketetapan': 370, 'dimaksud': 184, 'penjelasan': 666, 'peninjauan': 665, 'materi': 449, 'mulai': 571, 'mekanisme': 455, 'pengujian': 660, 'menguji': 531, 'bertentangan': 96, 'manapun': 435, 'uud': 942, 'merugikan': 555, 'konstitusional': 393, 'membahas': 472, 'urgensi': 938, 'pengaturan': 653, 'constitutional': 120, 'review': 770, 'diduga': 157, 'manakah': 434, 'dianalisis': 148, 'perlu': 707, 'kekosongan': 337, 'keberlakuan': 317, 'peradilan': 686, 'berkewajiban': 82, 'menyelesaikan': 552, 'ketatanegaraan': 365, 'terlindungi': 902, 'demi': 138, 'mewujudkan': 560, 'keadilan': 314, 'substantif': 849, 'oli': 589, 'bekas': 58, 'kapal': 302, 'sisa': 833, 'kegiatan': 326, 'permesinan': 710, 'sebuah': 795, 'kerap': 356, 'dijual': 169, 'para': 600, 'abk': 0, 'saat': 775, 'tempat': 880, 'penampungan': 633, 'limbah': 425, 'seperti': 820, 'reception': 760, 'facility': 229, 'rf': 771, 'menampung': 492, 'perairan': 687, 'selat': 810, 'madura': 429, 'belum': 63, 'siap': 829, 'menangani': 493, 'semakin': 812, 'meningkat': 537, 'sesederhana': 824, 'perlakuan': 705, 'penjualan': 668, 'marak': 440, 'ataukah': 38, 'menelaah': 502, 'semua': 814, 'regulasi': 763, 'sedang': 797, 'ditangani': 213, 'adakah': 5, 'konsistensi': 391, 'kesesuaian': 362, 'diklasifikasikan': 177, 'diperjual': 196, 'belikan': 62, 'diperdagangkan': 195, 'penghapusan': 658, 'rumah': 773, 'tangga': 868, 'uu': 941, 'pkdrt': 733, 'orang': 591, 'berpikir': 88, 'pribadi': 743, 'konsumsi': 395, 'pablik': 594, 'diungkiri': 219, 'kita': 383, 'menganggap': 513, 'keluarga': 341, 'diungkap': 218, 'karenanya': 305, 'layak': 420, 'umum': 930, 'walaupun': 947, 'sudah': 850, 'dilaporkan': 181, 'sedikit': 799, 'dimandatkan': 186, 'dibuatnya': 156, 'pdkrt': 604, 'baru': 55, 'ditetapkan': 216, 'penyelenggaraan': 677, 'kerjasama': 358, 'menekankan': 501, 'kdrt': 312, 'fisik': 235, 'psikis': 752, 'fasilitas': 231, 'antar': 25, 'disebutkan': 206, 'menyebutkan': 551, 'pentingnya': 670, 'pendamping': 639, 'kota': 400, 'surabaya': 855, 'bapemas': 53, 'kb': 311, 'pusat': 754, 'terpadu': 905, 'perempuan': 697, 'anak': 23, 'pptpa': 737, 'memecahkan': 479, 'kebisuan': 320, 'ketidakberanian': 372, 'terbatasnya': 892, 'akses': 17, 'selain': 807, 'fenomena': 232, 'gunung': 243, 'es': 228, 'mengungkapkan': 534, 'kebenaran': 316, 'moratorium': 564, 'program': 749, 'mempunyai': 487, 'pengaruh': 652, 'bagaimanakah': 44, 'kejelasan': 334, 'sosiologis': 841, 'berjalan': 77, 'efektivitas': 222, 'mengurangi': 535, 'jumlah': 293, 'tentunya': 886, 'khususnya': 382, 'membenahi': 476, 'system': 862, 'perekrutan': 696, 'masa': 441, 'dihargai': 166, 'haknya': 247, 'perkembangan': 704, 'komunikasi': 388, 'dampak': 131, 'positif': 736, 'permasalahan': 709, 'khusunya': 380, 'pembuktian': 625, 'acara': 3, 'perdata': 694, 'lima': 424, 'macam': 428, 'surat': 856, 'saksi': 781, 'persangkaan': 712, 'pengakuan': 651, 'sumpah': 853, 'mengangkat': 514, 'dokumen': 220, 'sistem': 834, 'kekuatan': 338, 'diajukan': 143, 'penerapannya': 649, 'persidangan': 715, 'difokuskan': 158, 'mengkaji': 529, 'kaidah': 297, 'elekronik': 224, 'mendukung': 500, 'formal': 236, 'mengakomodasi': 508, 'materiil': 450, 'perluasan': 708, 'sah': 776, 'dikategorikan': 174, 'tulisan': 927, 'bisa': 107, 'akta': 18, 'bawah': 56, 'tangan': 867, 'apabila': 27, 'terpercaya': 906, 'ditampilkan': 212, 'print': 745, 'out': 593, 'otentik': 592, 'diakui': 144, 'dilegalisasi': 183, 'disisi': 210, 'kesulitan': 364, 'dihadirkan': 164, 'ite': 279, 'seharusnya': 803, 'peluang': 614, 'pemeriksaan': 627, 'setempat': 826, 'memanggil': 468, 'ahli': 13, 'memaknai': 464, 'jurnalistiknya': 294, 'asasi': 32, 'berkembangnya': 80, 'bentuknya': 66, 'sajian': 780, 'kriminal': 401, 'muncul': 572, 'menyiarkan': 553, 'berkembang': 79, 'melaporkan': 460, 'pejabat': 606, 'kehakiman': 328, 'kepolisian': 353, 'terancam': 889, 'patut': 603, 'diketahui': 176, 'kualifikasi': 402, 'konsep': 389, 'conseptual': 119, 'tindakan': 916, 'objektif': 587, 'subjektif': 848, 'perintah': 700, 'tindakannya': 917, 'sifat': 831, 'melawan': 462, 'formil': 237, 'rechtpersoon': 761, 'penafsiran': 631, 'sistematis': 835, 'keterkaitan': 369, 'meskipun': 558, 'perbuatan': 692, 'materiilnya': 451, 'pidananya': 729, 'penyiaran': 679, 'redaksi': 762, 'ataupun': 39, 'dialihkan': 146, 'penanggungjawab': 634, 'ditayangkan': 214, 'narkotika': 577, 'peningkatan': 664, 'tahunnya': 865, 'narapidana': 576, 'menjalani': 539, 'pemasyarakatan': 616, 'pengurangan': 662, 'remisi': 768, 'pemberian': 621, 'klas': 385, 'iia': 266, 'pamekasan': 597, 'melihat': 463, 'relevansi': 767, 'keputusan': 355, 'presiden': 741, 'binaan': 105, 'pemasayarakatan': 615, 'relevan': 766, 'korelasi': 398, 'mengenal': 521, 'diri': 201, 'motivasi': 565, 'pengembangan': 654, 'sumber': 852, 'daya': 137, 'dilatarbelakangi': 182, 'keingintahuannya': 330, 'penulis': 672, 'rekonstruksi': 764, 'dijelaskan': 168, 'ide': 263, 'pemikiran': 629, 'ketidaktahuan': 373, 'dituangkan': 217, 'skripsi': 837, 'memfokuskan': 483, 'perilaku': 698, 'lingkungan': 426, 'polres': 735, 'ternyata': 904, 'penting': 669, 'pengungkapan': 661, 'peristiwa': 701, 'keyakinan': 378, 'penyidik': 680, 'kejahatannya': 333, 'sengaja': 816, 'disengaja': 207, 'kejadian': 331, 'demikian': 139, 'in': 270, 'absentia': 1, 'terdakwa': 893, 'dipanggil': 193, 'hadir': 244, 'alasan': 19, 'pengadilan': 650, 'hingga': 257, 'kehadiran': 327, 'menganalisis': 511, 'disidangkan': 208, 'tiga': 913, 'pemberantasan': 619, 'diberi': 153, 'kesempatan': 361, 'mengikuti': 527, 'tahap': 863, 'penyelidikan': 678, 'penyidikan': 681, 'memanfaatkan': 466, 'kitab': 384, 'kelemahan': 339, 'dihadapi': 163, 'memeriksa': 482, 'pendapatnya': 640, 'keterangan': 368, 'optimal': 590, 'mengumulkan': 532, 'penyitaan': 683, 'aset': 33, 'tengah': 883, 'mencari': 497, 'harta': 253, 'disimpan': 209, 'kelompoknya': 340, 'umumnya': 931}\n"
     ]
    }
   ],
   "source": [
    "from sklearn.feature_extraction.text import CountVectorizer\n",
    "\n",
    "document = df['hasil-akhir']\n",
    "a=len(document)\n",
    "\n",
    "#create a vectorizer object\n",
    "vectorizer = CountVectorizer()\n",
    "\n",
    "vectorizer.fit(document)\n",
    "# Printing the identified Unique words along with their indices\n",
    "print(\"Vocabulary: \", vectorizer.vocabulary_)"
   ]
  },
  {
   "cell_type": "code",
   "execution_count": 117,
   "id": "76a7cd28",
   "metadata": {},
   "outputs": [
    {
     "name": "stdout",
     "output_type": "stream",
     "text": [
      "Encoded Document is:\n"
     ]
    },
    {
     "data": {
      "text/plain": [
       "array([[ 0,  0,  0, ...,  0, 14,  1],\n",
       "       [ 0,  0,  0, ...,  0,  9,  1],\n",
       "       [ 0,  0,  1, ...,  0,  5,  0],\n",
       "       ...,\n",
       "       [ 0,  0,  0, ...,  0,  4,  1],\n",
       "       [ 0,  0,  0, ...,  0,  8,  1],\n",
       "       [ 0,  5,  0, ...,  0,  7,  1]], dtype=int64)"
      ]
     },
     "execution_count": 117,
     "metadata": {},
     "output_type": "execute_result"
    }
   ],
   "source": [
    "# Encode the Document\n",
    "vector = vectorizer.transform(document)\n",
    "\n",
    "# Summarizing the Encoded Texts\n",
    "print(\"Encoded Document is:\")\n",
    "vector.toarray()"
   ]
  },
  {
   "cell_type": "code",
   "execution_count": 116,
   "id": "66b05560",
   "metadata": {},
   "outputs": [
    {
     "name": "stderr",
     "output_type": "stream",
     "text": [
      "C:\\Users\\ASUS\\anaconda3\\lib\\site-packages\\sklearn\\utils\\deprecation.py:87: FutureWarning: Function get_feature_names is deprecated; get_feature_names is deprecated in 1.0 and will be removed in 1.2. Please use get_feature_names_out instead.\n",
      "  warnings.warn(msg, category=FutureWarning)\n"
     ]
    }
   ],
   "source": [
    "a = vectorizer.get_feature_names()\n",
    "\n",
    "tfidf = TfidfTransformer(use_idf=True, norm='l2', smooth_idf=True)\n",
    "tf = tfidf.fit_transform(vectorizer.fit_transform(document)).toarray()\n",
    "\n",
    "dfb = pd.DataFrame(data=tf,index=list(range(1, len(tf[:,1])+1, )),columns=[a])\n",
    "dfb\n",
    "\n",
    "dfb.to_csv(\"hasil-paling-akhir.csv\")"
   ]
  },
  {
   "cell_type": "markdown",
   "id": "17c93239",
   "metadata": {},
   "source": [
    "# K-Means"
   ]
  },
  {
   "cell_type": "code",
   "execution_count": 80,
   "id": "837d1523",
   "metadata": {},
   "outputs": [],
   "source": [
    "from sklearn.cluster import KMeans\n",
    "from matplotlib import pyplot as plt\n",
    "from sklearn.preprocessing import StandardScaler"
   ]
  },
  {
   "cell_type": "code",
   "execution_count": 118,
   "id": "d36da53c",
   "metadata": {},
   "outputs": [
    {
     "name": "stdout",
     "output_type": "stream",
     "text": [
      "[[0.         0.         0.         ... 0.         0.17761181 0.02466853]\n",
      " [0.         0.         0.         ... 0.         0.15307551 0.03307216]\n",
      " [0.         0.         0.02571763 ... 0.         0.08098579 0.        ]\n",
      " ...\n",
      " [0.         0.         0.         ... 0.         0.05387803 0.02619094]\n",
      " [0.         0.         0.         ... 0.         0.15099275 0.03669995]\n",
      " [0.         0.26967408 0.         ... 0.         0.11808483 0.03280163]]\n"
     ]
    }
   ],
   "source": [
    "#--- Mengubah Variabel Data Frame Menjadi Array ---\n",
    "x_array =  np.array(dfb)\n",
    "print(x_array)"
   ]
  },
  {
   "cell_type": "code",
   "execution_count": 81,
   "id": "3bd17b26",
   "metadata": {},
   "outputs": [],
   "source": [
    "scaler = StandardScaler()\n",
    "scaler.fit(df)\n",
    "df_scaled = scaler.transform(df)"
   ]
  },
  {
   "cell_type": "code",
   "execution_count": 82,
   "id": "5e0346fa",
   "metadata": {},
   "outputs": [
    {
     "name": "stdout",
     "output_type": "stream",
     "text": [
      "[[-0.22727748 -0.1831997  -0.23503274 ... -0.17470422 -0.19058394\n",
      "  -0.25352268]\n",
      " [-0.22727748 -0.1831997  -0.23503274 ... -0.17470422 -0.19058394\n",
      "   8.05186458]\n",
      " [-0.22727748 -0.1831997   0.56666642 ... -0.17470422 -0.19058394\n",
      "  -0.25352268]\n",
      " ...\n",
      " [ 0.73649433 -0.1831997  -0.23503274 ... -0.17470422  1.35287784\n",
      "  -0.25352268]\n",
      " [-0.22727748 -0.1831997  -0.23503274 ... -0.17470422 -0.19058394\n",
      "  -0.25352268]\n",
      " [ 0.52110884  0.81189341 -0.23503274 ...  0.58387963  1.00794218\n",
      "   0.75669767]]\n"
     ]
    }
   ],
   "source": [
    "print (df_scaled)"
   ]
  },
  {
   "cell_type": "code",
   "execution_count": null,
   "id": "3697d530",
   "metadata": {},
   "outputs": [],
   "source": []
  },
  {
   "cell_type": "markdown",
   "id": "7325be58",
   "metadata": {},
   "source": [
    "## Modelling Latent Semantic Analysis (LSA)"
   ]
  },
  {
   "cell_type": "markdown",
   "id": "fc8485f2",
   "metadata": {},
   "source": [
    "LSA pada dasarnya adalah dekomposisi nilai tunggal.\n",
    "\n",
    "SVD menguraikan DTM asli menjadi tiga matriks S=U.(sigma). (V.T). Di sini matriks U menunjukkan matriks dokumen-topik sedangkan (V) adalah matriks topik-istilah.\n",
    "\n",
    "Setiap baris matriks U (document-term matrix) adalah representasi vektor dari dokumen yang sesuai. Panjang vektor ini adalah jumlah topik yang diinginkan. Representasi vektor untuk istilah-istilah dalam data kami dapat ditemukan dalam matriks V (matriks term-topic).\n",
    "\n",
    "Jadi, SVD memberi kita vektor untuk setiap dokumen dan istilah dalam data kita. Panjang setiap vektor adalah k. Kita kemudian dapat menggunakan vektor-vektor ini untuk menemukan kata-kata serupa dan dokumen serupa menggunakan metode kesamaan kosinus.\n",
    "\n",
    "Kita dapat menggunakan fungsi truncatedSVD untuk mengimplementasikan LSA. Parameter n_components adalah jumlah topik yang ingin kami ekstrak. Model kemudian cocok dan diubah pada hasil yang diberikan oleh vectorizer.\n",
    "\n",
    "Terakhir perhatikan bahwa LSA dan LSI (I untuk pengindeksan) adalah sama dan yang lebih baru hanya kadang-kadang digunakan dalam konteks pengambilan informasi.\n",
    "\n",
    "Singular Value Decomposition (SVD) adalah teknik reduksi dimensi yang bermanfaat untuk memperkecil nilai kompleksitas dalam pemrogresan term-document matrix. rumus SVD yaitu:\n",
    "\n",
    "$$\n",
    "\\begin{array}{ll}\n",
    "A_{m n}=U_{m m} x S_{m n} x V_{n n}^{T} \\\\\\\\\\\\\n",
    "\\mathrm{~A}_{m n}= { matriks awal } \\\\\n",
    "\\mathrm{U}_{m m}= { matriks ortogonal U } \\\\\n",
    "\\mathrm{S}_{m n}= { matriks diagonal S } \\\\\n",
    "\\mathrm{V}_{n n}^{\\top}= { transpose matriks ortogonal } \\mathrm{V}\n",
    "\\end{array}\n",
    "$$"
   ]
  },
  {
   "cell_type": "code",
   "execution_count": 75,
   "id": "683558f0",
   "metadata": {},
   "outputs": [],
   "source": [
    "from sklearn.decomposition import TruncatedSVD\n",
    "lsa_model = TruncatedSVD(n_components=10, algorithm='randomized', n_iter=10, random_state=42)\n",
    "\n",
    "lsa_top=lsa_model.fit_transform(vect_text)"
   ]
  },
  {
   "cell_type": "code",
   "execution_count": 76,
   "id": "f56649f4",
   "metadata": {},
   "outputs": [
    {
     "name": "stdout",
     "output_type": "stream",
     "text": [
      "[[ 2.55051078e-01  5.89269891e-02  5.03548369e-01  4.20357772e-01\n",
      "  -1.27637508e-02 -2.80748247e-01 -2.21599344e-01  2.24526787e-01\n",
      "   6.46089984e-02 -9.60528422e-02]\n",
      " [ 3.19535654e-01 -1.81696694e-01 -1.89599214e-02 -1.91229040e-01\n",
      "  -2.23762243e-01 -2.70462813e-01 -3.06987123e-02 -1.01162106e-01\n",
      "   5.61635193e-01  5.43329733e-01]\n",
      " [ 4.62151878e-01 -2.70592006e-01 -4.52337782e-01  1.79498026e-01\n",
      "   3.04816542e-02 -2.12361955e-01 -1.50571394e-01  1.73580054e-02\n",
      "  -4.20338351e-01 -4.08614482e-02]\n",
      " [ 2.70683143e-01  1.35024352e-01  1.78370667e-01  2.18739830e-01\n",
      "  -2.73981764e-02  2.77183862e-01  3.23745408e-01 -3.57742263e-01\n",
      "  -3.34551270e-01  5.32091771e-01]\n",
      " [ 1.43241002e-01 -4.94105995e-02  1.64618629e-01 -1.41786582e-01\n",
      "   7.50270330e-01 -8.27897242e-02  9.03292487e-02  1.02302911e-01\n",
      "  -3.81418543e-02  2.07751005e-01]\n",
      " [ 3.17568511e-01  7.55390397e-01 -1.31555783e-01 -7.79086982e-02\n",
      "   9.49933501e-03 -2.04456780e-01  3.40277811e-02 -2.06717748e-02\n",
      "   2.28647747e-02 -5.67938040e-02]\n",
      " [ 2.27825470e-01  5.74734619e-02 -7.51850393e-02  8.31677108e-02\n",
      "   9.76975432e-02  5.94538457e-01 -4.71133928e-01  2.17343248e-01\n",
      "   1.74087573e-01  1.75224142e-01]\n",
      " [ 4.19233072e-01 -2.02223582e-01  2.25348101e-01 -4.49820329e-01\n",
      "  -2.60543083e-01 -1.29092166e-01 -6.76958751e-02  8.84847957e-02\n",
      "   2.00778171e-02 -8.59213566e-02]\n",
      " [ 3.11978194e-01 -1.08549066e-01  2.79365233e-01 -3.62779618e-01\n",
      "  -2.83575777e-01  3.90657944e-02 -3.96925050e-02 -1.28262652e-01\n",
      "  -2.79573871e-01 -1.50538984e-01]\n",
      " [ 2.91072241e-01 -1.68835016e-01  1.51383853e-01 -3.62012280e-01\n",
      "   5.42767006e-01 -4.82282546e-02  5.41477054e-02 -6.36434995e-02\n",
      "   4.34724385e-02 -1.45874861e-01]\n",
      " [ 3.38394033e-01  1.36249447e-01  6.61164582e-02 -2.20337364e-01\n",
      "  -2.62829338e-02  4.67021848e-01 -2.90496325e-01 -4.75536849e-02\n",
      "  -3.75963779e-02 -9.73032027e-02]\n",
      " [ 3.44541158e-01  7.51395698e-01 -1.53275006e-01 -7.57798739e-02\n",
      "   2.23725422e-02 -1.43447817e-01 -8.69091293e-03  9.16428180e-03\n",
      "   2.89698604e-02 -2.72981333e-02]\n",
      " [ 3.29949727e-01 -2.17209372e-02  4.97495433e-01  4.89133688e-01\n",
      "   1.54196783e-03 -6.52775741e-02 -7.49372442e-02 -1.68513957e-02\n",
      "   1.14129949e-02 -5.55459750e-02]\n",
      " [ 5.72666332e-01 -3.05247481e-01 -4.29252355e-01  1.73369594e-01\n",
      "   2.05945831e-02 -1.36269941e-01 -1.10354511e-01  3.09749998e-02\n",
      "  -8.50230610e-02  6.92748866e-02]\n",
      " [ 2.11165743e-01  2.01137051e-04  3.50714757e-02 -8.45395053e-02\n",
      "  -1.68520816e-01  1.54022218e-01  4.95061858e-01  7.59776799e-01\n",
      "  -1.23819771e-01  1.13007755e-01]\n",
      " [ 2.94166650e-01 -1.06435051e-01 -2.31652703e-01  2.69223595e-01\n",
      "   7.05568937e-02  2.02081501e-01  3.10179442e-01  1.50960254e-02\n",
      "   4.38398947e-01 -3.05792324e-01]\n",
      " [ 3.98509818e-01 -9.61993665e-02  5.23783711e-02  5.92559425e-02\n",
      "  -5.32806534e-02  1.94326263e-01  3.77182057e-01 -3.42307424e-01\n",
      "   1.46587726e-01 -2.84502972e-01]]\n",
      "(17, 10)\n"
     ]
    }
   ],
   "source": [
    "print(lsa_top)\n",
    "print(lsa_top.shape)  # (no_of_doc*no_of_topics)"
   ]
  },
  {
   "cell_type": "code",
   "execution_count": 77,
   "id": "b8da512b",
   "metadata": {},
   "outputs": [
    {
     "name": "stdout",
     "output_type": "stream",
     "text": [
      "Document 0 :\n",
      "Topic  0  :  25.505107778232105\n",
      "Topic  1  :  5.892698907494205\n",
      "Topic  2  :  50.354836884786145\n",
      "Topic  3  :  42.035777241220586\n",
      "Topic  4  :  -1.2763750837396912\n",
      "Topic  5  :  -28.074824689375955\n",
      "Topic  6  :  -22.1599344026332\n",
      "Topic  7  :  22.452678676003774\n",
      "Topic  8  :  6.4608998367008565\n",
      "Topic  9  :  -9.605284220053086\n"
     ]
    }
   ],
   "source": [
    "l=lsa_top[0]\n",
    "print(\"Document 0 :\")\n",
    "for i,topic in enumerate(l):\n",
    "  print(\"Topic \",i,\" : \",topic*100)"
   ]
  },
  {
   "cell_type": "markdown",
   "id": "00b2e873",
   "metadata": {},
   "source": [
    "Similalry dengan dokumen lain kita bisa melakukan ini. Namun perlu perhatikan bahwa nilai tidak ditambahkan ke 1 karena dalam LSA itu bukan probabiltiy dari suatu topik dalam dokumen."
   ]
  },
  {
   "cell_type": "code",
   "execution_count": 78,
   "id": "a109868d",
   "metadata": {},
   "outputs": [
    {
     "name": "stdout",
     "output_type": "stream",
     "text": [
      "(10, 750)\n",
      "[[ 0.01332691  0.06022948  0.03896505 ...  0.01809168  0.00607684\n",
      "   0.03020837]\n",
      " [-0.0101396  -0.01907093  0.02300931 ... -0.00658073 -0.00277338\n",
      "  -0.01180538]\n",
      " [ 0.01114724  0.01273155  0.00750698 ...  0.00804909  0.00875156\n",
      "   0.00802982]\n",
      " ...\n",
      " [-0.00582125 -0.10335224 -0.00131876 ...  0.00649241 -0.004991\n",
      "   0.01004952]\n",
      " [ 0.00403454  0.04490748 -0.02087188 ...  0.02918382 -0.01103828\n",
      "   0.045522  ]\n",
      " [-0.01407538 -0.09061661  0.01827539 ... -0.027426   -0.0061795\n",
      "  -0.00793788]]\n"
     ]
    }
   ],
   "source": [
    "print(lsa_model.components_.shape) # (no_of_topics*no_of_words)\n",
    "print(lsa_model.components_)"
   ]
  },
  {
   "cell_type": "markdown",
   "id": "54cdb69a",
   "metadata": {},
   "source": [
    "Untuk memperoleh kata-kata penting pada tiap dokument, yaitu dengan menggunakan code di bawah ini."
   ]
  },
  {
   "cell_type": "code",
   "execution_count": 79,
   "id": "f301a9e3",
   "metadata": {},
   "outputs": [
    {
     "name": "stdout",
     "output_type": "stream",
     "text": [
      "Topic 0: \n",
      "undang pers pidana negara penelitian elektronik hak tindak hukum penempatan \n",
      "\n",
      "Topic 1: \n",
      "penempatan tki moratorium bangkalan tkw perlindungan negeri kebijakan pelaksanaan pemerintah \n",
      "\n",
      "Topic 2: \n",
      "elektronik produk dokumen mpr tap alat bukti perdata indonesia undang \n",
      "\n",
      "Topic 3: \n",
      "elektronik produk dokumen bukti pers alat rekonstruksi perdata tanah pidana \n",
      "\n",
      "Topic 4: \n",
      "beli jual internet kapal oli bekas gharar unsur limbah transaksi \n",
      "\n",
      "Topic 5: \n",
      "penal korban upaya pemulihan tanah kekerasan non kuhp aliran beragama \n",
      "\n",
      "Topic 6: \n",
      "narkotika narapidana remisi tanah terdakwa rekonstruksi hak pemasyarakatan pemberian pidana \n",
      "\n",
      "Topic 7: \n",
      "narkotika narapidana remisi pemasyarakatan pemberian lembaga produk iia klas pamekasan \n",
      "\n",
      "Topic 8: \n",
      "bumn rekonstruksi direksi persero perkara penulis pidana kerugian perseroan terbatas \n",
      "\n",
      "Topic 9: \n",
      "bumn tanah direksi persero pendaftaran data kendala pertanahan milik kerugian \n",
      "\n"
     ]
    }
   ],
   "source": [
    "# most important words for each topic\n",
    "vocab = vect.get_feature_names_out()\n",
    "\n",
    "for i, comp in enumerate(lsa_model.components_):\n",
    "    vocab_comp = zip(vocab, comp)\n",
    "    sorted_words = sorted(vocab_comp, key= lambda x:x[1], reverse=True)[:10]\n",
    "    print(\"Topic \"+str(i)+\": \")\n",
    "    for t in sorted_words:\n",
    "        print(t[0],end=\" \")\n",
    "    print(\"\\n\")"
   ]
  },
  {
   "cell_type": "code",
   "execution_count": null,
   "id": "c6376f58",
   "metadata": {},
   "outputs": [],
   "source": []
  },
  {
   "cell_type": "code",
   "execution_count": null,
   "id": "c714a50d",
   "metadata": {},
   "outputs": [],
   "source": []
  }
 ],
 "metadata": {
  "kernelspec": {
   "display_name": "Python 3 (ipykernel)",
   "language": "python",
   "name": "python3"
  },
  "language_info": {
   "codemirror_mode": {
    "name": "ipython",
    "version": 3
   },
   "file_extension": ".py",
   "mimetype": "text/x-python",
   "name": "python",
   "nbconvert_exporter": "python",
   "pygments_lexer": "ipython3",
   "version": "3.9.7"
  }
 },
 "nbformat": 4,
 "nbformat_minor": 5
}
